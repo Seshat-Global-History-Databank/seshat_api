{
 "cells": [
  {
   "cell_type": "markdown",
   "metadata": {},
   "source": [
    "# How to use the Seshat API\n",
    "\n",
    "First let's import some functions from the package and set up a client."
   ]
  },
  {
   "cell_type": "code",
   "execution_count": null,
   "metadata": {},
   "outputs": [],
   "source": [
    "from seshat_api import SeshatAPI, get_variable_classes\n",
    "import pandas as pd"
   ]
  },
  {
   "cell_type": "code",
   "execution_count": null,
   "metadata": {},
   "outputs": [],
   "source": [
    "# client = SeshatAPI(base_url=\"http://localhost:8000/api\")  # Use this if you are running the API locally\n",
    "client = SeshatAPI(base_url=\"https://seshatdata.com/api\")  # Use this if you are using the public API (seshatdata is a test server, seshat-db will have the API enabled Autumn 2024)"
   ]
  },
  {
   "cell_type": "markdown",
   "metadata": {},
   "source": [
    "Let's check the Seshat data variables available via the API:"
   ]
  },
  {
   "cell_type": "code",
   "execution_count": null,
   "metadata": {},
   "outputs": [],
   "source": [
    "get_variable_classes()"
   ]
  },
  {
   "cell_type": "markdown",
   "metadata": {},
   "source": [
    "As a first test, let's import `Polities` from the `core` app and look at them in pandas:"
   ]
  },
  {
   "cell_type": "code",
   "execution_count": null,
   "metadata": {},
   "outputs": [],
   "source": [
    "from seshat_api.core import Polities\n",
    "polities = Polities(client)\n",
    "polities_df = pd.DataFrame(polities.get_all())"
   ]
  },
  {
   "cell_type": "code",
   "execution_count": null,
   "metadata": {},
   "outputs": [],
   "source": [
    "polities_df.head()"
   ]
  },
  {
   "cell_type": "markdown",
   "metadata": {},
   "source": [
    "Now let's try something more interesting! I want to know which polities in the Seshat database are recorded as having the religious tradition of Christianity in the year 1500 and add them to a pandas dataframe."
   ]
  },
  {
   "cell_type": "code",
   "execution_count": null,
   "metadata": {},
   "outputs": [],
   "source": [
    "from seshat_api.general import PolityReligiousTraditions\n",
    "religious_traditions = PolityReligiousTraditions(client)\n",
    "religious_traditions_df = pd.DataFrame(religious_traditions.get_all())"
   ]
  },
  {
   "cell_type": "code",
   "execution_count": null,
   "metadata": {},
   "outputs": [],
   "source": [
    "# Extract the polities column to a new dataframe\n",
    "polities_with_religious_traditions_df = pd.DataFrame(religious_traditions_df['polity'].tolist())\n",
    "\n",
    "# Add the religious tradition column to the new dataframe\n",
    "polities_with_religious_traditions_df['religious_tradition'] = religious_traditions_df['religious_tradition']\n",
    "\n",
    "# Filter by the religious tradition of Christianity\n",
    "polities_with_christianity_df = polities_with_religious_traditions_df[polities_with_religious_traditions_df['religious_tradition'] == 'Christianity']\n",
    "\n",
    "# Filter by polities active in the year 1500\n",
    "polities_with_christianity_1500_df = polities_with_christianity_df[(polities_with_christianity_df['start_year'] <= 1500) & (polities_with_christianity_df['end_year'] >= 1500)]"
   ]
  },
  {
   "cell_type": "code",
   "execution_count": null,
   "metadata": {},
   "outputs": [],
   "source": [
    "polities_with_christianity_1500_df[['long_name', 'religious_tradition']]"
   ]
  },
  {
   "cell_type": "markdown",
   "metadata": {},
   "source": [
    "How about, all the polities that have camels recorded as a warfare variable in the year 1760?"
   ]
  },
  {
   "cell_type": "code",
   "execution_count": null,
   "metadata": {},
   "outputs": [],
   "source": [
    "from seshat_api.wf import Camels\n",
    "camels = Camels(client)\n",
    "camels_df = pd.DataFrame(camels.get_all())"
   ]
  },
  {
   "cell_type": "code",
   "execution_count": null,
   "metadata": {},
   "outputs": [],
   "source": [
    "# Extract the polities column to a new dataframe\n",
    "polities_with_camels_df = pd.DataFrame(camels_df['polity'].tolist())\n",
    "\n",
    "# Add the camel column to the new dataframe\n",
    "polities_with_camels_df['camel'] = camels_df['camel']\n",
    "\n",
    "# Filter by the presence of camels\n",
    "polities_with_camels_df = polities_with_camels_df[polities_with_camels_df['camel'] == 'present']\n",
    "\n",
    "# Filter by polities active in the year 1760\n",
    "polities_with_camels_1760_df = polities_with_camels_df[(polities_with_camels_df['start_year'] <= 1760) & (polities_with_camels_df['end_year'] >= 1760)]"
   ]
  },
  {
   "cell_type": "code",
   "execution_count": null,
   "metadata": {},
   "outputs": [],
   "source": [
    "print(\"In the year 1760, the following polities used camels in war: \",\n",
    "      ', '.join(list(polities_with_camels_1760_df['long_name'])))"
   ]
  },
  {
   "cell_type": "markdown",
   "metadata": {},
   "source": [
    "You can load any of the API endpoints this way, here is an example from the Religious Tolerance data..."
   ]
  },
  {
   "cell_type": "code",
   "execution_count": null,
   "metadata": {},
   "outputs": [],
   "source": [
    "from seshat_api.rt import FrequencyOfGovernmentalViolenceAgainstReligiousGroups\n",
    "violence_freq = FrequencyOfGovernmentalViolenceAgainstReligiousGroups(client)\n",
    "violence_freq_df = pd.DataFrame(violence_freq.get_all())\n",
    "violence_freq_df.head()"
   ]
  }
 ],
 "metadata": {
  "kernelspec": {
   "display_name": "Python (seshat_api_1)",
   "language": "python",
   "name": "seshat_api_1"
  },
  "language_info": {
   "codemirror_mode": {
    "name": "ipython",
    "version": 3
   },
   "file_extension": ".py",
   "mimetype": "text/x-python",
   "name": "python",
   "nbconvert_exporter": "python",
   "pygments_lexer": "ipython3",
   "version": "3.11.10"
  }
 },
 "nbformat": 4,
 "nbformat_minor": 4
}
