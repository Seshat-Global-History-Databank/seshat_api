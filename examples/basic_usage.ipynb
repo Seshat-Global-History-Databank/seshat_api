{
 "cells": [
  {
   "cell_type": "markdown",
   "metadata": {},
   "source": [
    "# How to use the Seshat API\n",
    "\n",
    "First import the package and set up a client."
   ]
  },
  {
   "cell_type": "code",
   "execution_count": 30,
   "metadata": {},
   "outputs": [],
   "source": [
    "from seshat_api import SeshatAPI\n",
    "import pandas as pd"
   ]
  },
  {
   "cell_type": "code",
   "execution_count": 45,
   "metadata": {},
   "outputs": [],
   "source": [
    "client = SeshatAPI(base_url=\"http://localhost:8000/api\")  # Use this if you are running the API locally\n",
    "# client = SeshatAPI(base_url=\"https://seshatdata.com/api\")  # Use this if you are using the public API (seshatdata is a test server)"
   ]
  },
  {
   "cell_type": "markdown",
   "metadata": {},
   "source": [
    "As a first test, let's import `Polities` from the `core` app and look at them in pandas:"
   ]
  },
  {
   "cell_type": "code",
   "execution_count": null,
   "metadata": {},
   "outputs": [],
   "source": [
    "from seshat_api.core import Polities\n",
    "\n",
    "polities = Polities(client)\n",
    "polities_df = pd.DataFrame(polities.client.get(polities.ENDPOINT)['results'])\n",
    "\n",
    "polities_df.head()"
   ]
  },
  {
   "cell_type": "markdown",
   "metadata": {},
   "source": [
    "Now let's try something more interesting! I want to know which polities were Christian in the year 1500 and add them to a pandas dataframe."
   ]
  },
  {
   "cell_type": "code",
   "execution_count": null,
   "metadata": {},
   "outputs": [],
   "source": [
    "# First import the religion data\n",
    "from seshat_api.core import Religions\n",
    "\n",
    "religions = Religions(client)\n",
    "religions_df = pd.DataFrame(religions.client.get(religions.ENDPOINT)['results'])\n",
    "religions_df.head()"
   ]
  },
  {
   "cell_type": "code",
   "execution_count": null,
   "metadata": {},
   "outputs": [],
   "source": [
    "# Using polities and religions data and matching on the id field, add the polity.long_name and religion.religion_name to a new df, for all polities that exist in 1500 based on the start_year and end_year\n",
    "df = pd.merge(polities_df, religions_df, left_on='id', right_on='id', how='inner')\n",
    "# df = df[(df['start_year'] <= 1500) & (df['end_year'] >= 1500)]\n",
    "# df = df[['long_name', 'religion_name']]\n",
    "df"
   ]
  }
 ],
 "metadata": {
  "kernelspec": {
   "display_name": "Python (seshat_api)",
   "language": "python",
   "name": "seshat_api"
  },
  "language_info": {
   "codemirror_mode": {
    "name": "ipython",
    "version": 3
   },
   "file_extension": ".py",
   "mimetype": "text/x-python",
   "name": "python",
   "nbconvert_exporter": "python",
   "pygments_lexer": "ipython3",
   "version": "3.11.4"
  }
 },
 "nbformat": 4,
 "nbformat_minor": 2
}
