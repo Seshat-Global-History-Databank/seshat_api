{
 "cells": [
  {
   "cell_type": "markdown",
   "metadata": {},
   "source": [
    "# How to use the Seshat API\n",
    "\n",
    "First let's import some functions from the package and set up a client. We'll also import pandas."
   ]
  },
  {
   "cell_type": "code",
   "execution_count": null,
   "metadata": {},
   "outputs": [],
   "source": [
    "from seshat_api import SeshatAPI, get_variable_classes\n",
    "import pandas as pd"
   ]
  },
  {
   "cell_type": "code",
   "execution_count": null,
   "metadata": {},
   "outputs": [],
   "source": [
    "# client = SeshatAPI(base_url=\"https://seshat-db.com/api\")\n",
    "client = SeshatAPI(base_url=\"https://seshatdata.com/api\")  # seshatdata is a test server, seshat-db will have the API enabled Winter 2024"
   ]
  },
  {
   "cell_type": "markdown",
   "metadata": {},
   "source": [
    "Let's check the Seshat data variables available via the API:"
   ]
  },
  {
   "cell_type": "code",
   "execution_count": null,
   "metadata": {},
   "outputs": [],
   "source": [
    "get_variable_classes()"
   ]
  },
  {
   "cell_type": "markdown",
   "metadata": {},
   "source": [
    "As a first test, let's import `Polities` from the `core` app and look at them in pandas:"
   ]
  },
  {
   "cell_type": "code",
   "execution_count": null,
   "metadata": {},
   "outputs": [],
   "source": [
    "from seshat_api.core import Polities\n",
    "polities = Polities(client)\n",
    "polities_df = pd.DataFrame(polities.get_all())"
   ]
  },
  {
   "cell_type": "code",
   "execution_count": null,
   "metadata": {},
   "outputs": [],
   "source": [
    "polities_df.head() # print the first 5 rows of the dataframe"
   ]
  },
  {
   "cell_type": "markdown",
   "metadata": {},
   "source": [
    "Now let's try something more interesting. Let's load all the polities that have `Crossbows` recorded as a warfare variable (`wf`) in the year **1760**:"
   ]
  },
  {
   "cell_type": "code",
   "execution_count": null,
   "metadata": {},
   "outputs": [],
   "source": [
    "# First, get a pandas dataframe of the Crossbows data\n",
    "from seshat_api.wf import Crossbows\n",
    "crossbows = Crossbows(client)\n",
    "crossbows_df = pd.DataFrame(crossbows.get_all())\n",
    "crossbows_df.sample(5) # print 5 random rows from the dataframe"
   ]
  },
  {
   "cell_type": "markdown",
   "metadata": {},
   "source": [
    "We want to find out which polities that existed in the year 1760 at some point had Crossbows recorded as present.\n",
    "\n",
    "To do this, we'll need to make a new dataframe from the `polity` column, which contains the start and end years of the polities."
   ]
  },
  {
   "cell_type": "code",
   "execution_count": null,
   "metadata": {},
   "outputs": [],
   "source": [
    "# Extract the polities column to a new dataframe\n",
    "polities_with_crossbows_df = pd.DataFrame(crossbows_df['polity'].tolist())\n",
    "\n",
    "# Add the camel column from the original dataframe to the new one\n",
    "polities_with_crossbows_df['crossbow'] = crossbows_df['crossbow']\n",
    "\n",
    "# Filter by the presence of camels\n",
    "polities_with_crossbows_df = polities_with_crossbows_df[polities_with_crossbows_df['crossbow'] == 'present']\n",
    "\n",
    "# Filter by polities active in the year 1760\n",
    "polities_with_crossbows_1760_df = polities_with_crossbows_df[(polities_with_crossbows_df['start_year'] <= 1760) & (polities_with_crossbows_df['end_year'] >= 1760)]"
   ]
  },
  {
   "cell_type": "markdown",
   "metadata": {},
   "source": [
    "In the year 1760, the following polities used crossbows in war: "
   ]
  },
  {
   "cell_type": "code",
   "execution_count": null,
   "metadata": {},
   "outputs": [],
   "source": [
    "print(', '.join(list(polities_with_crossbows_1760_df['long_name'])))"
   ]
  }
 ],
 "metadata": {
  "kernelspec": {
   "display_name": "Python (seshat_api_1)",
   "language": "python",
   "name": "seshat_api_1"
  },
  "language_info": {
   "codemirror_mode": {
    "name": "ipython",
    "version": 3
   },
   "file_extension": ".py",
   "mimetype": "text/x-python",
   "name": "python",
   "nbconvert_exporter": "python",
   "pygments_lexer": "ipython3",
   "version": "3.11.10"
  }
 },
 "nbformat": 4,
 "nbformat_minor": 4
}
