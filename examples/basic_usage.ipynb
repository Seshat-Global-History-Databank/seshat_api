{
 "cells": [
  {
   "cell_type": "markdown",
   "metadata": {},
   "source": [
    "# How to use the Seshat API\n",
    "\n",
    "First import the package and set up a client."
   ]
  },
  {
   "cell_type": "code",
   "execution_count": 8,
   "metadata": {},
   "outputs": [],
   "source": [
    "from seshat_api import SeshatAPI\n",
    "import pandas as pd"
   ]
  },
  {
   "cell_type": "code",
   "execution_count": 9,
   "metadata": {},
   "outputs": [],
   "source": [
    "# client = SeshatAPI(base_url=\"http://localhost:8000/api\")  # Use this if you are running the API locally\n",
    "client = SeshatAPI(base_url=\"https://seshatdata.com/api\")  # Use this if you are using the public API (seshatdata is a test server)"
   ]
  },
  {
   "cell_type": "code",
   "execution_count": 10,
   "metadata": {},
   "outputs": [],
   "source": [
    "# Function to get all pages of data from the API for a given function\n",
    "def get_seshat_data(client, data_func):\n",
    "    data = data_func(client)\n",
    "    all_results = []\n",
    "    page = 1\n",
    "\n",
    "    while True:\n",
    "        try:\n",
    "            response = data.get_page(page)\n",
    "        except:\n",
    "            break\n",
    "        results = response.get('results', [])\n",
    "        if not results:\n",
    "            break\n",
    "        all_results.extend(results)\n",
    "        page += 1\n",
    "\n",
    "    return pd.DataFrame(all_results)"
   ]
  },
  {
   "cell_type": "markdown",
   "metadata": {},
   "source": [
    "As a first test, let's import `Polities` from the `core` app and look at them in pandas:"
   ]
  },
  {
   "cell_type": "code",
   "execution_count": 11,
   "metadata": {},
   "outputs": [],
   "source": [
    "from seshat_api.core import Polities\n",
    "polities_df = get_seshat_data(client, Polities)"
   ]
  },
  {
   "cell_type": "code",
   "execution_count": 12,
   "metadata": {},
   "outputs": [],
   "source": [
    "# polities_df.head()"
   ]
  },
  {
   "cell_type": "markdown",
   "metadata": {},
   "source": [
    "Now let's try something more interesting! I want to know which polities in the Seshat database are recorded as having the religious tradition of Christianity in the year 1500 and add them to a pandas dataframe."
   ]
  },
  {
   "cell_type": "code",
   "execution_count": 13,
   "metadata": {},
   "outputs": [],
   "source": [
    "from seshat_api.general import PolityReligiousTraditions\n",
    "religious_traditions_df = get_seshat_data(client, PolityReligiousTraditions)\n",
    "# religious_traditions_df.head()"
   ]
  },
  {
   "cell_type": "code",
   "execution_count": 14,
   "metadata": {},
   "outputs": [],
   "source": [
    "# Extract the polities column to a new dataframe\n",
    "polities_with_religious_traditions_df = pd.DataFrame(religious_traditions_df['polity'].tolist())\n",
    "\n",
    "# Add the religious tradition column to the new dataframe\n",
    "polities_with_religious_traditions_df['religious_tradition'] = religious_traditions_df['religious_tradition']\n",
    "\n",
    "# Filter by the religious tradition of Christianity\n",
    "polities_with_christianity_df = polities_with_religious_traditions_df[polities_with_religious_traditions_df['religious_tradition'] == 'Christianity']\n",
    "\n",
    "# Filter by polities active in the year 1500\n",
    "polities_with_christianity_1500_df = polities_with_christianity_df[(polities_with_christianity_df['start_year'] <= 1500) & (polities_with_christianity_df['end_year'] >= 1500)]"
   ]
  },
  {
   "cell_type": "code",
   "execution_count": null,
   "metadata": {},
   "outputs": [],
   "source": [
    "polities_with_christianity_1500_df[['long_name', 'religious_tradition']]"
   ]
  }
 ],
 "metadata": {
  "kernelspec": {
   "display_name": "Python (seshat_api)",
   "language": "python",
   "name": "seshat_api"
  },
  "language_info": {
   "codemirror_mode": {
    "name": "ipython",
    "version": 3
   },
   "file_extension": ".py",
   "mimetype": "text/x-python",
   "name": "python",
   "nbconvert_exporter": "python",
   "pygments_lexer": "ipython3",
   "version": "3.11.4"
  }
 },
 "nbformat": 4,
 "nbformat_minor": 2
}
