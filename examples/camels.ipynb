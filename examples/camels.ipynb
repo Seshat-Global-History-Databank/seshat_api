{
 "cells": [
  {
   "cell_type": "code",
   "execution_count": 48,
   "metadata": {},
   "outputs": [],
   "source": [
    "from seshat_api import SeshatAPI\n",
    "import pandas as pd\n",
    "import matplotlib.pyplot as plt\n",
    "client = SeshatAPI(base_url=\"https://seshatdata.com/api\")"
   ]
  },
  {
   "cell_type": "code",
   "execution_count": 49,
   "metadata": {},
   "outputs": [],
   "source": [
    "from seshat_api.wf import Camels\n",
    "camels = Camels(client)\n",
    "camels_df = pd.DataFrame(camels.get_all())"
   ]
  },
  {
   "cell_type": "code",
   "execution_count": null,
   "metadata": {},
   "outputs": [],
   "source": [
    "# Extract the polities column to a new dataframe\n",
    "polities_with_camels_df = pd.DataFrame(camels_df['polity'].tolist())\n",
    "\n",
    "# Add the camel column to the new dataframe\n",
    "polities_with_camels_df['camel'] = camels_df['camel']\n",
    "\n",
    "polities_with_camels_df.sample(5)"
   ]
  },
  {
   "cell_type": "code",
   "execution_count": null,
   "metadata": {},
   "outputs": [],
   "source": [
    "# Get the number of polities active in the year 500CE where camel == 'present'\n",
    "len(polities_with_camels_df[\n",
    "    (polities_with_camels_df['start_year'] <= 500) &\n",
    "    (polities_with_camels_df['end_year'] >= 500) &\n",
    "    (polities_with_camels_df['camel'] == 'present')\n",
    "])"
   ]
  },
  {
   "cell_type": "code",
   "execution_count": null,
   "metadata": {},
   "outputs": [],
   "source": [
    "# Get the range of years where data on camels exists\n",
    "years = range(int(polities_with_camels_df['start_year'].min()),\n",
    "              int(polities_with_camels_df['end_year'].max()) + 1)\n",
    "years"
   ]
  },
  {
   "cell_type": "code",
   "execution_count": 76,
   "metadata": {},
   "outputs": [],
   "source": [
    "# Let's say we're only interested in the years 500CE to 1500CE\n",
    "years = range(500, 1501)"
   ]
  },
  {
   "cell_type": "code",
   "execution_count": null,
   "metadata": {},
   "outputs": [],
   "source": [
    "# Get a list of all the possible values for this variable (camel) which we know is an absent/present variable\n",
    "absent_present_values = list(polities_with_camels_df['camel'].unique())\n",
    "absent_present_values"
   ]
  },
  {
   "cell_type": "code",
   "execution_count": null,
   "metadata": {},
   "outputs": [],
   "source": [
    "# Create a new empty DataFrame to store the frequency of each camel value for each year\n",
    "frequency_df = pd.DataFrame(index=years, columns=absent_present_values).fillna(0)\n",
    "print(frequency_df.sample(5))  # Show a random sample of 5 rows"
   ]
  },
  {
   "cell_type": "code",
   "execution_count": 79,
   "metadata": {},
   "outputs": [],
   "source": [
    "# Iterate over each year and count the occurrences of each camel value\n",
    "# Count the number of rows that match the filter criteria and assign it to the frequency DataFrame\n",
    "for year in years:\n",
    "    for val in absent_present_values:\n",
    "        frequency_df.loc[year, val] = len(polities_with_camels_df[\n",
    "            (polities_with_camels_df['start_year'] <= year) &\n",
    "            (polities_with_camels_df['end_year'] >= year) &\n",
    "            (polities_with_camels_df['camel'] == val)\n",
    "        ])"
   ]
  },
  {
   "cell_type": "code",
   "execution_count": null,
   "metadata": {},
   "outputs": [],
   "source": [
    "print(frequency_df.sample(5))  # Show a random sample of 5 rows"
   ]
  },
  {
   "cell_type": "code",
   "execution_count": null,
   "metadata": {},
   "outputs": [],
   "source": [
    "# View the frequencies for the specific year 500\n",
    "frequency_df.loc[500]"
   ]
  },
  {
   "cell_type": "code",
   "execution_count": null,
   "metadata": {},
   "outputs": [],
   "source": [
    "# Plot the data\n",
    "plt.figure(figsize=(10, 7))\n",
    "for camel in camel_values:\n",
    "    plt.scatter(frequency_df.index, frequency_df[camel], label=camel)\n",
    "    plt.plot(frequency_df.index, frequency_df[camel])\n",
    "\n",
    "plt.xlabel('Year')\n",
    "plt.ylabel('Polities')\n",
    "plt.title('Polities with warfare variable: Camel')\n",
    "plt.legend()\n",
    "plt.show()"
   ]
  }
 ],
 "metadata": {
  "kernelspec": {
   "display_name": "Python (seshat_api)",
   "language": "python",
   "name": "seshat_api"
  },
  "language_info": {
   "codemirror_mode": {
    "name": "ipython",
    "version": 3
   },
   "file_extension": ".py",
   "mimetype": "text/x-python",
   "name": "python",
   "nbconvert_exporter": "python",
   "pygments_lexer": "ipython3",
   "version": "3.11.4"
  }
 },
 "nbformat": 4,
 "nbformat_minor": 2
}
