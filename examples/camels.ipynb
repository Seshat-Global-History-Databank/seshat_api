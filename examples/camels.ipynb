{
 "cells": [
  {
   "cell_type": "markdown",
   "metadata": {},
   "source": [
    "# Case study: The use of camels in warfare\n",
    "\n",
    "Imagine you are a historian working with the Seshat Global History Databank and you're particularly interested in exploring the use of camels in warfare. Let's imagine you have a particular interest in the millenium 500CE to 1500CE.\n",
    "\n",
    "One of the first things you might wish to do is load all of the data that Seshat has for the camel variable, and explore which polities (and how many) are recorded as having \"present\" for the camels field, compared with \"absent\" and \"unknown\". Note a value \"unknown\" means that the polity has been recorded as being unknown for this variable, not that the data is missing."
   ]
  },
  {
   "cell_type": "code",
   "execution_count": null,
   "metadata": {},
   "outputs": [],
   "source": [
    "from seshat_api import SeshatAPI, get_variable_classes\n",
    "import pandas as pd\n",
    "import matplotlib.pyplot as plt"
   ]
  },
  {
   "cell_type": "code",
   "execution_count": null,
   "metadata": {},
   "outputs": [],
   "source": [
    "client = SeshatAPI(base_url=\"https://seshatdata.com/api\")\n",
    "# client = SeshatAPI(base_url=\"https://seshat-db.com/api\")"
   ]
  },
  {
   "cell_type": "code",
   "execution_count": null,
   "metadata": {},
   "outputs": [],
   "source": [
    "from seshat_api.wf import Camels\n",
    "camels = Camels(client)\n",
    "camels_df = pd.DataFrame(camels.get_all())"
   ]
  },
  {
   "cell_type": "code",
   "execution_count": null,
   "metadata": {},
   "outputs": [],
   "source": [
    "# Extract the polities column to a new dataframe\n",
    "polities_with_camels_df = pd.DataFrame(camels_df['polity'].tolist())\n",
    "\n",
    "# Add the camel column to the new dataframe\n",
    "polities_with_camels_df['camel'] = camels_df['camel']\n",
    "\n",
    "polities_with_camels_df.sample(5)"
   ]
  },
  {
   "cell_type": "code",
   "execution_count": null,
   "metadata": {},
   "outputs": [],
   "source": [
    "# Get the number of polities active in the year 500CE where camel == 'present'\n",
    "len(polities_with_camels_df[\n",
    "    (polities_with_camels_df['start_year'] <= 500) &\n",
    "    (polities_with_camels_df['end_year'] >= 500) &\n",
    "    (polities_with_camels_df['camel'] == 'present')\n",
    "])"
   ]
  },
  {
   "cell_type": "code",
   "execution_count": null,
   "metadata": {},
   "outputs": [],
   "source": [
    "# Get the range of years where data on camels exists\n",
    "# Note: the range() function in Python generates numbers up to, but not including, the stop value\n",
    "years = range(int(polities_with_camels_df['start_year'].min()),\n",
    "              int(polities_with_camels_df['end_year'].max()) + 1)\n",
    "years"
   ]
  },
  {
   "cell_type": "code",
   "execution_count": null,
   "metadata": {},
   "outputs": [],
   "source": [
    "# Let's say we're only interested in the years 500CE to 1500CE\n",
    "# Note: the range() function in Python generates numbers up to, but not including, the stop value\n",
    "years = range(500, 1501)\n",
    "years"
   ]
  },
  {
   "cell_type": "code",
   "execution_count": null,
   "metadata": {},
   "outputs": [],
   "source": [
    "# Get a list of all the possible values for this variable (camel) which we know is an absent/present variable\n",
    "absent_present_values = list(polities_with_camels_df['camel'].unique())\n",
    "absent_present_values"
   ]
  },
  {
   "cell_type": "code",
   "execution_count": null,
   "metadata": {},
   "outputs": [],
   "source": [
    "# Create a new empty DataFrame to store the frequency of each camel value for each year\n",
    "frequency_df = pd.DataFrame(index=years, columns=absent_present_values).infer_objects(copy=False).fillna(0)\n",
    "print(frequency_df.sample(5))  # Show a random sample of 5 rows"
   ]
  },
  {
   "cell_type": "code",
   "execution_count": null,
   "metadata": {},
   "outputs": [],
   "source": [
    "# Iterate over each year and count the occurrences of each camel value\n",
    "# Count the number of rows that match the filter criteria and assign it to the frequency DataFrame\n",
    "for year in years:\n",
    "    for val in absent_present_values:\n",
    "        frequency_df.loc[year, val] = len(polities_with_camels_df[\n",
    "            (polities_with_camels_df['start_year'] <= year) &\n",
    "            (polities_with_camels_df['end_year'] >= year) &\n",
    "            (polities_with_camels_df['camel'] == val)\n",
    "        ])"
   ]
  },
  {
   "cell_type": "code",
   "execution_count": null,
   "metadata": {},
   "outputs": [],
   "source": [
    "print(frequency_df.sample(5))  # Show a random sample of 5 rows"
   ]
  },
  {
   "cell_type": "code",
   "execution_count": null,
   "metadata": {},
   "outputs": [],
   "source": [
    "# View the frequencies for the specific year 500\n",
    "frequency_df.loc[500]"
   ]
  },
  {
   "cell_type": "markdown",
   "metadata": {},
   "source": [
    "Now let's take a look at the whole 500CE to 1500CE time period and see the numbers of polities recorded as \"absent\", \"present\" or \"unknown\" with a plot:"
   ]
  },
  {
   "cell_type": "code",
   "execution_count": null,
   "metadata": {},
   "outputs": [],
   "source": [
    "# Create a new figure to plot the data\n",
    "plt.figure(figsize=(13, 7))\n",
    "\n",
    "# Iterate over each absent/present value and plot the data\n",
    "for val, color in zip(absent_present_values, ['orange', 'green', 'red']):\n",
    "    plt.plot(frequency_df.index, frequency_df[val], color=color)\n",
    "\n",
    "plt.xlabel('Year')\n",
    "plt.ylabel('Polities')\n",
    "plt.title('Polities using Camels in warfare: 500CE to 1500CE')\n",
    "\n",
    "# Ensure y-axis ticks are whole numbers\n",
    "plt.yticks(range(int(frequency_df.values.max()) + 1))\n",
    "\n",
    "# Ensure x-axis ticks go right to the edge of the plot\n",
    "plt.xlim(frequency_df.index.min(), frequency_df.index.max())\n",
    "\n",
    "# Add legend to the plot\n",
    "plt.legend([val.capitalize() if val != 'unknown' else 'Coded Unknown' for val in absent_present_values])\n",
    "\n",
    "# Display the plot\n",
    "plt.show()"
   ]
  },
  {
   "cell_type": "markdown",
   "metadata": {},
   "source": [
    "# Suggested task\n",
    "\n",
    "Imagine you are now exploring the use of different metals for military purposes. The Seshat database has data for `Steel`, `Iron`, `Copper` and `Bronze`. Choose an era of interest and see if you can make a plot showing the number of polities having each of these metals recorded as \"present\" over time."
   ]
  }
 ],
 "metadata": {
  "kernelspec": {
   "display_name": "Python (seshat_api_1)",
   "language": "python",
   "name": "seshat_api_1"
  },
  "language_info": {
   "codemirror_mode": {
    "name": "ipython",
    "version": 3
   },
   "file_extension": ".py",
   "mimetype": "text/x-python",
   "name": "python",
   "nbconvert_exporter": "python",
   "pygments_lexer": "ipython3",
   "version": "3.11.10"
  }
 },
 "nbformat": 4,
 "nbformat_minor": 2
}
