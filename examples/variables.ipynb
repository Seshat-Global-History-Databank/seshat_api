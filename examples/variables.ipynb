{
 "cells": [
  {
   "cell_type": "markdown",
   "metadata": {},
   "source": [
    "# Workshop task\n",
    "\n",
    "Imagine now that you are interested in looking at the relationship between two of Seshat's social complexity variables. For example, the relationship between a transport infrastructure variable such as \"Road\" and a profession variable like \"Professional soldier\". Your hypothesis could be that the polities with professional soldiers need roads for them to move on, so there should be a strong correlation between the number of polities with soldiers and the number of polities with roads in any given year."
   ]
  },
  {
   "cell_type": "code",
   "execution_count": 1,
   "metadata": {},
   "outputs": [],
   "source": [
    "from seshat_api import SeshatAPI, get_frequencies\n",
    "import pandas as pd\n",
    "import matplotlib.pyplot as plt"
   ]
  },
  {
   "cell_type": "code",
   "execution_count": 2,
   "metadata": {},
   "outputs": [],
   "source": [
    "client = SeshatAPI(base_url=\"https://seshatdata.com/api\")\n",
    "# client = SeshatAPI(base_url=\"https://seshat-db.com/api\")"
   ]
  },
  {
   "cell_type": "code",
   "execution_count": 3,
   "metadata": {},
   "outputs": [],
   "source": [
    "years = range(500, 1501)"
   ]
  },
  {
   "cell_type": "code",
   "execution_count": 4,
   "metadata": {},
   "outputs": [],
   "source": [
    "variables = ['road', 'professional_soldier']"
   ]
  },
  {
   "cell_type": "code",
   "execution_count": 5,
   "metadata": {},
   "outputs": [],
   "source": [
    "example_frequency_df = get_frequencies(client, variables, years)"
   ]
  },
  {
   "cell_type": "code",
   "execution_count": null,
   "metadata": {},
   "outputs": [],
   "source": [
    "example_frequency_df.sample(5)"
   ]
  },
  {
   "cell_type": "code",
   "execution_count": null,
   "metadata": {},
   "outputs": [],
   "source": [
    "plt.figure(figsize=(13, 7))\n",
    "plt.plot(example_frequency_df.index, example_frequency_df['professional_soldier'], label='Professional Soldiers')\n",
    "plt.plot(example_frequency_df.index, example_frequency_df['road'], label='Roads')\n",
    "plt.xlabel('Year')\n",
    "plt.ylabel('Number of Polities')\n",
    "plt.title('Number of Polities with Professional Soldiers and Roads Over Time')\n",
    "plt.legend()\n",
    "plt.show()"
   ]
  },
  {
   "cell_type": "code",
   "execution_count": null,
   "metadata": {},
   "outputs": [],
   "source": [
    "plt.figure(figsize=(13, 7))\n",
    "scatter = plt.scatter(\n",
    "    example_frequency_df['professional_soldier'], \n",
    "    example_frequency_df['road'], \n",
    "    c=example_frequency_df.index,\n",
    "    cmap='viridis',\n",
    ")\n",
    "plt.xlabel('Number of polities with Professional Soldiers')\n",
    "plt.ylabel('Number of polities with Roads')\n",
    "plt.title('Polities recorded as having Professional Soldiers vs Roads: 500CE to 1500CE')\n",
    "plt.colorbar(scatter, label='Year')\n",
    "plt.show()"
   ]
  }
 ],
 "metadata": {
  "kernelspec": {
   "display_name": "Python (seshat_api)",
   "language": "python",
   "name": "seshat_api"
  },
  "language_info": {
   "codemirror_mode": {
    "name": "ipython",
    "version": 3
   },
   "file_extension": ".py",
   "mimetype": "text/x-python",
   "name": "python",
   "nbconvert_exporter": "python",
   "pygments_lexer": "ipython3",
   "version": "3.11.4"
  }
 },
 "nbformat": 4,
 "nbformat_minor": 2
}
