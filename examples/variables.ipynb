{
 "cells": [
  {
   "cell_type": "markdown",
   "metadata": {},
   "source": [
    "# Workshop task\n",
    "\n",
    "Imagine now that you are interested in looking at the relationship between two of Seshat's social complexity variables. For example, the relationship between a transport infrastructure variable such as \"Road\" and a profession variable like \"Professional soldier\". Your hypothesis could be that the polities with professional soldiers need roads for them to move on, so there should be a strong correlation between the number of polities with soldiers and the number of polities with roads in any given year."
   ]
  },
  {
   "cell_type": "code",
   "execution_count": 2,
   "metadata": {},
   "outputs": [],
   "source": [
    "from seshat_api import SeshatAPI\n",
    "import pandas as pd\n",
    "import matplotlib.pyplot as plt"
   ]
  },
  {
   "cell_type": "code",
   "execution_count": 3,
   "metadata": {},
   "outputs": [],
   "source": [
    "client = SeshatAPI(base_url=\"https://seshatdata.com/api\")\n",
    "# client = SeshatAPI(base_url=\"https://seshat-db.com/api\")"
   ]
  },
  {
   "cell_type": "code",
   "execution_count": 4,
   "metadata": {},
   "outputs": [],
   "source": [
    "years = range(500, 1501)"
   ]
  },
  {
   "cell_type": "code",
   "execution_count": 5,
   "metadata": {},
   "outputs": [],
   "source": [
    "from seshat_api.sc import Roads\n",
    "from seshat_api.sc import ProfessionalSoldiers\n",
    "roads = Roads(client)\n",
    "professional_soldiers = ProfessionalSoldiers(client)\n",
    "roads_df = pd.DataFrame(roads.get_all())\n",
    "professional_soldiers_df = pd.DataFrame(professional_soldiers.get_all())"
   ]
  },
  {
   "cell_type": "code",
   "execution_count": 6,
   "metadata": {},
   "outputs": [],
   "source": [
    "polities_with_professional_soldiers_df = pd.DataFrame(professional_soldiers_df['polity'].tolist())\n",
    "polities_with_professional_soldiers_df['professional_soldier'] = professional_soldiers_df['professional_soldier']\n",
    "polities_with_roads_df = pd.DataFrame(roads_df['polity'].tolist())\n",
    "polities_with_roads_df['road'] = roads_df['road']"
   ]
  },
  {
   "cell_type": "code",
   "execution_count": 7,
   "metadata": {},
   "outputs": [],
   "source": [
    "road_soldier_frequency_df = pd.DataFrame(index=years, columns=['professional_soldier', 'road']).fillna(0)"
   ]
  },
  {
   "cell_type": "code",
   "execution_count": 8,
   "metadata": {},
   "outputs": [],
   "source": [
    "for year in years:\n",
    "    road_soldier_frequency_df.loc[year, 'professional_soldier'] = len(polities_with_professional_soldiers_df[\n",
    "        (polities_with_professional_soldiers_df['start_year'] <= year) &\n",
    "        (polities_with_professional_soldiers_df['end_year'] >= year) &\n",
    "        (polities_with_professional_soldiers_df['professional_soldier'] == 'present')\n",
    "    ])\n",
    "    road_soldier_frequency_df.loc[year, 'road'] = len(polities_with_roads_df[\n",
    "        (polities_with_roads_df['start_year'] <= year) &\n",
    "        (polities_with_roads_df['end_year'] >= year) &\n",
    "        (polities_with_roads_df['road'] == 'present')\n",
    "    ])"
   ]
  },
  {
   "cell_type": "code",
   "execution_count": null,
   "metadata": {},
   "outputs": [],
   "source": [
    "road_soldier_frequency_df.sample(5)\n",
    "# len(road_soldier_frequency_df)"
   ]
  },
  {
   "cell_type": "code",
   "execution_count": null,
   "metadata": {},
   "outputs": [],
   "source": [
    "# Create a scatter plot showing the relationship between the presence of professional soldiers and roads in road_soldier_frequency_df\n",
    "plt.figure(figsize=(13, 7))\n",
    "scatter = plt.scatter(\n",
    "    road_soldier_frequency_df['professional_soldier'], \n",
    "    road_soldier_frequency_df['road'], \n",
    "    c=road_soldier_frequency_df.index,  # Color by the DataFrame index (year)\n",
    "    cmap='viridis',  # You can choose any colormap you prefer\n",
    ")\n",
    "plt.xlabel('Number of polities with Professional Soldiers')\n",
    "plt.ylabel('Number of polities with Roads')\n",
    "plt.title('Polities recorded as having Professional Soldiers vs Roads: 500CE to 1500CE')\n",
    "plt.colorbar(scatter, label='Year')  # Add a colorbar to show the year\n",
    "plt.show()"
   ]
  }
 ],
 "metadata": {
  "kernelspec": {
   "display_name": "Python (seshat_api)",
   "language": "python",
   "name": "seshat_api"
  },
  "language_info": {
   "codemirror_mode": {
    "name": "ipython",
    "version": 3
   },
   "file_extension": ".py",
   "mimetype": "text/x-python",
   "name": "python",
   "nbconvert_exporter": "python",
   "pygments_lexer": "ipython3",
   "version": "3.11.4"
  }
 },
 "nbformat": 4,
 "nbformat_minor": 2
}
