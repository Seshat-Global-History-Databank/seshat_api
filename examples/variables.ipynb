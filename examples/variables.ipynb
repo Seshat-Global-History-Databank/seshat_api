{
 "cells": [
  {
   "cell_type": "markdown",
   "metadata": {},
   "source": [
    "# Variable frequency comparison\n",
    "\n",
    "Imagine now that you are interested in looking at the relationship several of Seshat's data variables, to see which appear to be correlated in the number of polities that have them recorded as \"Present\".\n",
    "\n",
    "For example, the relationship between a transport infrastructure variable such as \"Road\" and a profession variable like \"Professional soldier\". Your hypothesis could be that the polities with professional soldiers need roads for them to move on, so there should be a strong correlation between the number of polities with soldiers and the number of polities with roads in any given year.\n",
    "\n",
    "We could compare this to some other variables that we believe less likely to be correlated."
   ]
  },
  {
   "cell_type": "code",
   "execution_count": 1,
   "metadata": {},
   "outputs": [],
   "source": [
    "from seshat_api import SeshatAPI, get_frequencies\n",
    "import matplotlib.pyplot as plt"
   ]
  },
  {
   "cell_type": "code",
   "execution_count": 2,
   "metadata": {},
   "outputs": [],
   "source": [
    "client = SeshatAPI(base_url=\"https://seshatdata.com/api\")\n",
    "# client = SeshatAPI(base_url=\"https://seshat-db.com/api\")"
   ]
  },
  {
   "cell_type": "code",
   "execution_count": 3,
   "metadata": {},
   "outputs": [],
   "source": [
    "# Set the range of years to consider\n",
    "years = range(-1000, 2024)"
   ]
  },
  {
   "cell_type": "code",
   "execution_count": 4,
   "metadata": {},
   "outputs": [],
   "source": [
    "# Create a list of variables to consider\n",
    "variables = ['road',\n",
    "             'professional_soldier',\n",
    "             'philosophy',\n",
    "             'copper',\n",
    "             'elephant'\n",
    "             ]"
   ]
  },
  {
   "cell_type": "code",
   "execution_count": 5,
   "metadata": {},
   "outputs": [],
   "source": [
    "# The get_frequencies function returns a pandas DataFrame with the number of polities that have each variable in each year\n",
    "example_frequency_df = get_frequencies(client, variables, years)"
   ]
  },
  {
   "cell_type": "code",
   "execution_count": null,
   "metadata": {},
   "outputs": [],
   "source": [
    "# Let's take a look at 5 random years\n",
    "example_frequency_df.sample(5)"
   ]
  },
  {
   "cell_type": "markdown",
   "metadata": {},
   "source": [
    "## Plotting the data\n",
    "\n",
    "Let's first plot all the variables to see the frequency of \"Present\" being recorded across the selected year range:"
   ]
  },
  {
   "cell_type": "code",
   "execution_count": null,
   "metadata": {},
   "outputs": [],
   "source": [
    "plt.figure(figsize=(13, 7))\n",
    "plt.plot(example_frequency_df.index, example_frequency_df['professional_soldier'], label='Professional Soldiers')\n",
    "plt.plot(example_frequency_df.index, example_frequency_df['road'], label='Roads')\n",
    "plt.plot(example_frequency_df.index, example_frequency_df['philosophy'], label='Philosophy')\n",
    "plt.plot(example_frequency_df.index, example_frequency_df['copper'], label='Copper')\n",
    "plt.plot(example_frequency_df.index, example_frequency_df['elephant'], label='Elephants')\n",
    "plt.xlabel('Year')\n",
    "plt.ylabel('Number of Polities')\n",
    "plt.title('Number of Polities with selected variables \"Present\" over time')\n",
    "plt.legend()\n",
    "plt.show()"
   ]
  },
  {
   "cell_type": "markdown",
   "metadata": {},
   "source": [
    "## Correlation?\n",
    "\n",
    "Now let's explore the relationship between 2 specific variables.\n",
    "\n",
    "First, let's see if our hypothesis that the number of polities with roads should be correlated to the number of polities with professional soldiers. \n",
    "\n",
    "We'll create a scatter plot where each point represents a particular year, and the number of polities having each variable (recorded as \"Present\") on the x and y axes:"
   ]
  },
  {
   "cell_type": "code",
   "execution_count": null,
   "metadata": {},
   "outputs": [],
   "source": [
    "plt.figure(figsize=(13, 7))\n",
    "scatter = plt.scatter(\n",
    "    example_frequency_df['professional_soldier'], \n",
    "    example_frequency_df['road'], \n",
    "    c=example_frequency_df.index,\n",
    "    cmap='viridis',\n",
    ")\n",
    "plt.xlabel('Number of polities with Professional Soldiers')\n",
    "plt.ylabel('Number of polities with Roads')\n",
    "plt.title('Polities recorded as having Professional Soldiers vs Roads: 1000 BCE - 2024 CE')\n",
    "plt.colorbar(scatter, label='Year')\n",
    "plt.show()"
   ]
  },
  {
   "cell_type": "markdown",
   "metadata": {},
   "source": [
    "## Correlation?\n",
    "\n",
    "Now let's make the same plot, but comparing two of the variables we think are unlikely to correlate:"
   ]
  },
  {
   "cell_type": "code",
   "execution_count": null,
   "metadata": {},
   "outputs": [],
   "source": [
    "plt.figure(figsize=(13, 7))\n",
    "scatter = plt.scatter(\n",
    "    example_frequency_df['copper'], \n",
    "    example_frequency_df['philosophy'], \n",
    "    c=example_frequency_df.index,\n",
    "    cmap='viridis',\n",
    ")\n",
    "plt.xlabel('Number of polities with Copper')\n",
    "plt.ylabel('Number of polities with Philosophy')\n",
    "plt.title('Polities recorded as having Copper vs Philosophy: 1000 BCE - 2024 CE')\n",
    "plt.colorbar(scatter, label='Year')\n",
    "plt.show()"
   ]
  }
 ],
 "metadata": {
  "kernelspec": {
   "display_name": "Python (seshat_api)",
   "language": "python",
   "name": "seshat_api"
  },
  "language_info": {
   "codemirror_mode": {
    "name": "ipython",
    "version": 3
   },
   "file_extension": ".py",
   "mimetype": "text/x-python",
   "name": "python",
   "nbconvert_exporter": "python",
   "pygments_lexer": "ipython3",
   "version": "3.11.4"
  }
 },
 "nbformat": 4,
 "nbformat_minor": 2
}
