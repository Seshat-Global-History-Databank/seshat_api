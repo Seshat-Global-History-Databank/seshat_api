{
 "cells": [
  {
   "cell_type": "markdown",
   "metadata": {},
   "source": [
    "# ~~Predicting the size of a polity based on Social Complexity~~ Predicting complexity characteristics\n",
    "\n",
    "Imagine you are working on a theory of social complexity in polities that links the number/variety of social complexity variables to the size/area of the polity or population size, with the hypothesis being that greater number of these variables enables more expansion.\n",
    "\n",
    "A second part of this hypothesis could be that this relationship breaks down in the 20th century, with the breakup of large empires and the rise of smaller highly developed (socially complex) states. As such, **we could focus on a time frame from 500BCE to 1900CE.**\n",
    "\n",
    "In this notebook we will:\n",
    "- Define a measure of Social Complexity as the number of SC variables a polity has recorded as \"present\"\n",
    "    - Or rather, we should use the principal component of Social Complexity as defined [in the paper](https://www.pnas.org/doi/full/10.1073/pnas.1708800115)\n",
    "    - I think, what they did in this paper is calculate a \"principal component\" which basically always increases over time for polities, with the idea being that polities follow a common trajectory\n",
    "    - They hypothesised that SC would be captured by 2 PCs - \"scale\" and \"nonscale\", however found all complexity characteristics (CCs) were correlated and so a single PC could be used\n",
    "    - The idea of [PCA](https://builtin.com/data-science/step-step-explanation-principal-component-analysis#:~:text=necessary%20for%20context.-,What%20Is%20Principal%20Component%20Analysis%3F,information%20in%20the%20large%20set.) is simple: reduce the number of variables of a data set, while preserving as much information as possible\n",
    "    - They fitted a predictive model based on the CCs of most of the world regions (training set), then were able to use it to predict the CCs of North America (test set)\n",
    "    - Their most useful \"PC\" called \"PC1\" (unsure how calculated) shows general increase across polities or regions over time - this feels like stating the obvious\n",
    "    - \"The tight relationships between different CCs provide support for the idea that there are functional relationships between these characteristics that cause them to coevolve\"\n",
    "    - Using their PC1 measure of social complexity to predict population size might be a bit pointless, as this presumably already was calculated with one of the inputs being being pop. size, but I'm less certain about area\n",
    "    - **Instead, can we predict one of the CCs based on another?** - This is one of the claims of the paper, and would work well as an example.\n",
    "- Demonstrate how to load the full set of Social Complexity variables for a subset of polities from different eras\n",
    "- Plot the relationship between Social Complexity and the polity area (and population size)\n",
    "- Train models to predict the area and the pop. size based on Social Complexity\n",
    "- Use the model to predict the are and pop. size of polities not used in training and compare to the known answers from the db\n",
    "- This model, if working well, can then be used to make predictions for polities where the area and population size are not known\n",
    "\n",
    "Note: Because the social complexity variables are coded such that more advanced polities have the presence of earlier development variables inferred, it should follow there is a correlation between the number of social complexity variables that polities have coded \"present\" (in this time window) and either the area (`Polity Territory` or `Cliopatria area`) or `Polity Population`. Alternatively, we could use a measure of social complexity that already exists."
   ]
  }
 ],
 "metadata": {
  "language_info": {
   "name": "python"
  }
 },
 "nbformat": 4,
 "nbformat_minor": 2
}
