{
 "cells": [
  {
   "cell_type": "markdown",
   "metadata": {},
   "source": [
    "# Predicting the size of a polity based on Social Complexity\n",
    "\n",
    "Imagine you are working on a theory of social complexity in polities that links the number/variety of social complexity variables to the size/area of the polity or population size, with the hypothesis being that greater number of these variables enables more expansion.\n",
    "\n",
    "A second part of this hypothesis could be that this relationship breaks down in the 20th century, with the breakup of large empires and the rise of smaller highly developed (socially complex) states. As such, **we could focus on a time frame from 500BCE to 1900CE.**\n",
    "\n",
    "In this notebook we will:\n",
    "- Define a measure of Social Complexity as the number of SC variables a polity has recorded as \"present\"\n",
    "    - Or rather, we should use the principal component of Social Complexity as defined [in the paper](https://www.pnas.org/doi/full/10.1073/pnas.1708800115)\n",
    "    - Is this \"Hierarchical Complexity\"?\n",
    "- Demonstrate how to load the full set of Social Complexity variables for a subset of polities from different eras\n",
    "- Plot the relationship between Social Complexity and the polity area (and population size)\n",
    "- Train models to predict the area and the pop. size based on Social Complexity\n",
    "- Use the model to predict the are and pop. size of polities not used in training and compare to the known answers from the db\n",
    "- This model, if working well, can then be used to make predictions for polities where the area and population size are not known\n",
    "\n",
    "Note: Because the social complexity variables are coded such that more advanced polities have the presence of earlier development variables inferred, it should follow there is a correlation between the number of social complexity variables that polities have coded \"present\" (in this time window) and either the area (`Polity Territory` or `Cliopatria area`) or `Polity Population`. Alternatively, we could use a measure of social complexity that already exists."
   ]
  }
 ],
 "metadata": {
  "language_info": {
   "name": "python"
  }
 },
 "nbformat": 4,
 "nbformat_minor": 2
}
