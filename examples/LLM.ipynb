{
 "cells": [
  {
   "cell_type": "code",
   "execution_count": 45,
   "metadata": {},
   "outputs": [],
   "source": [
    "from seshat_api import SeshatAPI\n",
    "import pandas as pd\n",
    "from ollama import chat, ChatResponse\n",
    "import re"
   ]
  },
  {
   "cell_type": "markdown",
   "metadata": {},
   "source": [
    "# Questions for DeepSeek-R1\n",
    "\n",
    "Can a recent top performing LLM (DeepSeek-R1) correctly predict whether a variable from the Seshat Global History Databank (e.g. \"Scientific Literature\") should be \"present\" or \"absent\" for a selection of polities, given a definition of the variable, the name of the polity and the years in which it existed?\n",
    "\n",
    "If DeepSeek has a good understanding of history, can it use this to guess from the polity name and years what time/place the prompt is referring to, and whether the variable in question would have been present?\n",
    "\n",
    "**Important:** I have included some example CSVs of DeepSeek responses to prompts, since running hundreds of prompts took several hours on my laptop (M1 Mac). If you want to generate new responses from DeepSeek, make sure you uncomment the calls to the `deepseek_responses` function below, but also make sure to *not* overwrite your own responses in the next cell where I load the pre-made responses from CSV."
   ]
  },
  {
   "cell_type": "code",
   "execution_count": 46,
   "metadata": {},
   "outputs": [],
   "source": [
    "client = SeshatAPI(base_url=\"https://seshat-db.com/api\")"
   ]
  },
  {
   "cell_type": "markdown",
   "metadata": {},
   "source": [
    "## Getting data from Seshat\n",
    "\n",
    "First let's define our variable to be used in an LLM prompt later (taken from seshat-db.com), then load the data from the Seshat API to use as our ground truth to test against."
   ]
  },
  {
   "cell_type": "code",
   "execution_count": 47,
   "metadata": {},
   "outputs": [],
   "source": [
    "variable = 'Scientific Literature'\n",
    "definition = \"Talking about Kinds of Written Documents, Scientific literature includes mathematics, natural sciences, social sciences\""
   ]
  },
  {
   "cell_type": "code",
   "execution_count": 48,
   "metadata": {},
   "outputs": [
    {
     "data": {
      "text/plain": [
       "421"
      ]
     },
     "execution_count": 48,
     "metadata": {},
     "output_type": "execute_result"
    }
   ],
   "source": [
    "from seshat_api.sc import ScientificLiteratures\n",
    "scientific_literatures = ScientificLiteratures(client)\n",
    "scientific_literatures_df = pd.DataFrame(scientific_literatures.get_all())\n",
    "len(scientific_literatures_df)"
   ]
  },
  {
   "cell_type": "markdown",
   "metadata": {},
   "source": [
    "Let's just use expert reviewed data and ignore examples where the value is anything other than \"present\" or \"absent\" to create a subsample of the dataset.\n",
    "\n",
    "We should also reformat the dataframe so we have information about the polities such as the start and end year alongside the variable value, then remove columns we aren't interested in."
   ]
  },
  {
   "cell_type": "code",
   "execution_count": 49,
   "metadata": {},
   "outputs": [],
   "source": [
    "def process_df(seshat_df, variable_id):\n",
    "    # Filter out the records that are not expert reviewed\n",
    "    seshat_df = seshat_df[seshat_df['expert_reviewed'] == True]\n",
    "\n",
    "    # Filter out records where the variable is not either 'present' or 'absent'\n",
    "    seshat_df = seshat_df[seshat_df[variable_id].isin(['present', 'absent'])]\n",
    "\n",
    "    # Extract the polities column to a new dataframe\n",
    "    polities_df = pd.DataFrame(seshat_df['polity'].tolist())\n",
    "\n",
    "    # Add the scientific_literature column to the new dataframe\n",
    "    polities_df[variable_id] = seshat_df[variable_id]\n",
    "\n",
    "    # Filter out records where scientific_literature is NaN\n",
    "    polities_df = polities_df[polities_df[variable_id].notna()]\n",
    "    print(\"There are\", len(polities_df), variable_id, \"records after filtering.\")\n",
    "\n",
    "    # Get rid of the columns we don't need\n",
    "    polities_df = polities_df[['new_name', 'long_name', 'start_year', 'end_year', variable_id, 'general_description']]\n",
    "\n",
    "    return polities_df"
   ]
  },
  {
   "cell_type": "code",
   "execution_count": 50,
   "metadata": {},
   "outputs": [
    {
     "name": "stdout",
     "output_type": "stream",
     "text": [
      "There are 150 scientific_literature records after filtering.\n"
     ]
    }
   ],
   "source": [
    "polities_with_scientific_literatures_df = process_df(scientific_literatures_df, 'scientific_literature')"
   ]
  },
  {
   "cell_type": "code",
   "execution_count": 51,
   "metadata": {},
   "outputs": [
    {
     "data": {
      "text/html": [
       "<div>\n",
       "<style scoped>\n",
       "    .dataframe tbody tr th:only-of-type {\n",
       "        vertical-align: middle;\n",
       "    }\n",
       "\n",
       "    .dataframe tbody tr th {\n",
       "        vertical-align: top;\n",
       "    }\n",
       "\n",
       "    .dataframe thead th {\n",
       "        text-align: right;\n",
       "    }\n",
       "</style>\n",
       "<table border=\"1\" class=\"dataframe\">\n",
       "  <thead>\n",
       "    <tr style=\"text-align: right;\">\n",
       "      <th></th>\n",
       "      <th>new_name</th>\n",
       "      <th>long_name</th>\n",
       "      <th>start_year</th>\n",
       "      <th>end_year</th>\n",
       "      <th>scientific_literature</th>\n",
       "      <th>general_description</th>\n",
       "    </tr>\n",
       "  </thead>\n",
       "  <tbody>\n",
       "    <tr>\n",
       "      <th>185</th>\n",
       "      <td>mx_basin_of_mexico_2</td>\n",
       "      <td>Initial Formative Basin of Mexico</td>\n",
       "      <td>-2000</td>\n",
       "      <td>-1201</td>\n",
       "      <td>absent</td>\n",
       "      <td>The Basin or Valley of Mexico is a highlands p...</td>\n",
       "    </tr>\n",
       "    <tr>\n",
       "      <th>222</th>\n",
       "      <td>mx_basin_of_mexico_5</td>\n",
       "      <td>Late Formative Basin of Mexico</td>\n",
       "      <td>-400</td>\n",
       "      <td>-101</td>\n",
       "      <td>present</td>\n",
       "      <td>The Basin or Valley of Mexico is a highlands p...</td>\n",
       "    </tr>\n",
       "    <tr>\n",
       "      <th>18</th>\n",
       "      <td>gr_crete_classical</td>\n",
       "      <td>Classical Crete</td>\n",
       "      <td>-500</td>\n",
       "      <td>-323</td>\n",
       "      <td>present</td>\n",
       "      <td>&lt;i&gt;Population and political organization&lt;/i&gt;&lt;b...</td>\n",
       "    </tr>\n",
       "    <tr>\n",
       "      <th>192</th>\n",
       "      <td>jp_jomon_6</td>\n",
       "      <td>Japan - Final Jomon</td>\n",
       "      <td>-1200</td>\n",
       "      <td>-300</td>\n",
       "      <td>absent</td>\n",
       "      <td></td>\n",
       "    </tr>\n",
       "    <tr>\n",
       "      <th>191</th>\n",
       "      <td>jp_jomon_5</td>\n",
       "      <td>Japan - Late Jomon</td>\n",
       "      <td>-2500</td>\n",
       "      <td>-1200</td>\n",
       "      <td>absent</td>\n",
       "      <td></td>\n",
       "    </tr>\n",
       "  </tbody>\n",
       "</table>\n",
       "</div>"
      ],
      "text/plain": [
       "                 new_name                          long_name  start_year  \\\n",
       "185  mx_basin_of_mexico_2  Initial Formative Basin of Mexico       -2000   \n",
       "222  mx_basin_of_mexico_5     Late Formative Basin of Mexico        -400   \n",
       "18     gr_crete_classical                    Classical Crete        -500   \n",
       "192            jp_jomon_6                Japan - Final Jomon       -1200   \n",
       "191            jp_jomon_5                 Japan - Late Jomon       -2500   \n",
       "\n",
       "     end_year scientific_literature  \\\n",
       "185     -1201                absent   \n",
       "222      -101               present   \n",
       "18       -323               present   \n",
       "192      -300                absent   \n",
       "191     -1200                absent   \n",
       "\n",
       "                                   general_description  \n",
       "185  The Basin or Valley of Mexico is a highlands p...  \n",
       "222  The Basin or Valley of Mexico is a highlands p...  \n",
       "18   <i>Population and political organization</i><b...  \n",
       "192                                                     \n",
       "191                                                     "
      ]
     },
     "execution_count": 51,
     "metadata": {},
     "output_type": "execute_result"
    }
   ],
   "source": [
    "polities_with_scientific_literatures_df.sample(5)"
   ]
  },
  {
   "cell_type": "markdown",
   "metadata": {},
   "source": [
    "## \"Prompt engineering\"\n",
    "\n",
    "First let's define a prompt function to use with our dataframe:"
   ]
  },
  {
   "cell_type": "code",
   "execution_count": 52,
   "metadata": {},
   "outputs": [],
   "source": [
    "def year_CE(year):\n",
    "    if year >= 0:\n",
    "        return f\"{year} CE\"\n",
    "    else:\n",
    "        return f\"{abs(year)} BCE\"\n",
    "\n",
    "def prompt_func(seshat_df, polity_name, variable, variable_definition):\n",
    "    df = seshat_df[seshat_df['new_name'] == polity_name]\n",
    "    polity = list(df['long_name'])[0]\n",
    "    # description = list(df['general_description'])[0]  # TODO: we could add this to the prompt to add more context\n",
    "    start_year = list(df['start_year'])[0]\n",
    "    end_year = list(df['end_year'])[0]\n",
    "    prompt = \"Use your knowledge of world history to answer the following question. \"\n",
    "    prompt += f\"Given your knowledge of the historical polity '{polity}', \"\n",
    "    prompt += f\"a polity that existed between {year_CE(start_year)} and {year_CE(end_year)}\"\n",
    "    prompt += f\", do you expect that {variable} was present or absent? \"\n",
    "    prompt += f\"{variable} is defined as: '{variable_definition}'. \"\n",
    "    \n",
    "    # To help extract the answer from the text response later, make sure we have a string that can be found with a regex:\n",
    "    prompt += \"Answer 'XXXpresentXXX' if you expect it to be present, and 'XXXabsentXXX' if you expect it to be absent.\"\n",
    "    return prompt\n",
    "    "
   ]
  },
  {
   "cell_type": "markdown",
   "metadata": {},
   "source": [
    "How does the prompt look with an example \"new_name\" (Seshat ID) of `tn_fatimid_cal`, which we know has a record for scientific literature in the database:"
   ]
  },
  {
   "cell_type": "code",
   "execution_count": 53,
   "metadata": {},
   "outputs": [
    {
     "data": {
      "text/plain": [
       "\"Use your knowledge of world history to answer the following question. Given your knowledge of the historical polity 'Fatimid Caliphate', a polity that existed between 909 CE and 1171 CE, do you expect that Scientific Literature was present or absent? Scientific Literature is defined as: 'Talking about Kinds of Written Documents, Scientific literature includes mathematics, natural sciences, social sciences'. Answer 'XXXpresentXXX' if you expect it to be present, and 'XXXabsentXXX' if you expect it to be absent.\""
      ]
     },
     "execution_count": 53,
     "metadata": {},
     "output_type": "execute_result"
    }
   ],
   "source": [
    "test_seshat_polity_name = 'tn_fatimid_cal'\n",
    "test_prompt = prompt_func(polities_with_scientific_literatures_df, test_seshat_polity_name, variable, definition)\n",
    "test_prompt"
   ]
  },
  {
   "cell_type": "markdown",
   "metadata": {},
   "source": [
    "Ok, let's see what DeepSeek responds for this prompt:"
   ]
  },
  {
   "cell_type": "code",
   "execution_count": 54,
   "metadata": {},
   "outputs": [
    {
     "name": "stdout",
     "output_type": "stream",
     "text": [
      "<think>\n",
      "Alright, so I need to figure out whether scientific literature existed during the Fatimid Caliphate period, which was from 909 CE to 1171 CE. Let's break this down step by step.\n",
      "\n",
      "First, I know that the Fatimid Caliphate was an Islamic empire in North Africa, expanding its influence beyond its original territory. It was known for its advancements in various fields including science and mathematics. The period they're asking about is from 909 to 1171, so that's a long span of time covering several centuries.\n",
      "\n",
      "I remember that the Fatimids were preceded by the Rashidun Caliphate and followed by the AB Caliphate. The Islamic Golden Age was during the Umayyads and the Abbasids, which was from around 650 to 1258 CE. The Fatimid Caliphate is often considered part of this broader Golden Age but perhaps a bit before or after it in terms of specific advancements.\n",
      "\n",
      "Given that the Golden Age saw significant contributions in science, I would expect that during the Fatimid period as well, there was some scientific literature produced. They had access to various cultures, including Greek and Hellenistic knowledge through their campaigns and conquests. This cultural exchange could have led to the integration of new scientific ideas.\n",
      "\n",
      "I also think about how the Fatimids were known for their advancements in medicine, mathematics, astronomy, and other sciences. For example, they may have translated and preserved ancient texts which later influenced later periods. If that's the case, then scientific literature would naturally exist during this time.\n",
      "\n",
      "Another point is the presence of scholars and universities. The Abbasid Caliphate, after the Fatimid period, established a Baghdad University, indicating that prior empires had institutions for learning. So it's plausible that the Fatimid era also had academic centers where scientific works could be produced or studied.\n",
      "\n",
      "However, I should consider if there were any significant disruptions or factors that might have hindered scientific literature during this time. The Fatimids faced internal conflicts, such as the Umayyad invasion in 929, which could have disrupted education and research. Also, political instability can sometimes lead to a decline in scholarly activity.\n",
      "\n",
      "But even with these challenges, it's reasonable to expect that some scientific works were still produced. They might not have been as extensive or as prominent as later periods, but they would still exist to some degree.\n",
      "\n",
      "Additionally, the Fatimids had control over various regions which allowed them to gather knowledge from different parts of the world. This cross-pollination of ideas could lead to the compilation and preservation of scientific texts that were later referred to by scholars in other areas of study.\n",
      "\n",
      "In conclusion, considering their role during a broader period of Islamic Golden Age advancements, their cultural exchanges, potential academic centers, and the sources of knowledge they accumulated, it's reasonable to expect that scientific literature was present during the Fatimid Caliphate.\n",
      "</think>\n",
      "\n",
      "XXXpresentXXX\n"
     ]
    }
   ],
   "source": [
    "response: ChatResponse = chat(model='deepseek-r1', messages=[\n",
    "  {\n",
    "    'role': 'user',\n",
    "    'content': test_prompt,\n",
    "  },\n",
    "])\n",
    "print(response.message.content)"
   ]
  },
  {
   "cell_type": "markdown",
   "metadata": {},
   "source": [
    "Was that correct? Let's check the dataframe to see:"
   ]
  },
  {
   "cell_type": "code",
   "execution_count": 55,
   "metadata": {},
   "outputs": [
    {
     "data": {
      "text/html": [
       "<div>\n",
       "<style scoped>\n",
       "    .dataframe tbody tr th:only-of-type {\n",
       "        vertical-align: middle;\n",
       "    }\n",
       "\n",
       "    .dataframe tbody tr th {\n",
       "        vertical-align: top;\n",
       "    }\n",
       "\n",
       "    .dataframe thead th {\n",
       "        text-align: right;\n",
       "    }\n",
       "</style>\n",
       "<table border=\"1\" class=\"dataframe\">\n",
       "  <thead>\n",
       "    <tr style=\"text-align: right;\">\n",
       "      <th></th>\n",
       "      <th>new_name</th>\n",
       "      <th>long_name</th>\n",
       "      <th>start_year</th>\n",
       "      <th>end_year</th>\n",
       "      <th>scientific_literature</th>\n",
       "      <th>general_description</th>\n",
       "    </tr>\n",
       "  </thead>\n",
       "  <tbody>\n",
       "    <tr>\n",
       "      <th>237</th>\n",
       "      <td>tn_fatimid_cal</td>\n",
       "      <td>Fatimid Caliphate</td>\n",
       "      <td>909</td>\n",
       "      <td>1171</td>\n",
       "      <td>present</td>\n",
       "      <td>The Fatimid Caliphate lasted from 909 to 1171 ...</td>\n",
       "    </tr>\n",
       "  </tbody>\n",
       "</table>\n",
       "</div>"
      ],
      "text/plain": [
       "           new_name          long_name  start_year  end_year  \\\n",
       "237  tn_fatimid_cal  Fatimid Caliphate         909      1171   \n",
       "\n",
       "    scientific_literature                                general_description  \n",
       "237               present  The Fatimid Caliphate lasted from 909 to 1171 ...  "
      ]
     },
     "execution_count": 55,
     "metadata": {},
     "output_type": "execute_result"
    }
   ],
   "source": [
    "polities_with_scientific_literatures_df[polities_with_scientific_literatures_df['new_name'] == test_seshat_polity_name]"
   ]
  },
  {
   "cell_type": "markdown",
   "metadata": {},
   "source": [
    "### Get DeepSeek's answer data\n",
    "\n",
    "Let's write a function to collect responses from DeepSeek for all the polities in our dataset and make a new dataframe with the results:"
   ]
  },
  {
   "cell_type": "code",
   "execution_count": 56,
   "metadata": {},
   "outputs": [],
   "source": [
    "def deepseek_responses(seshat_df, variable, definition, count=None):  # Use the count parameter to limit the number of responses\n",
    "    def generate_response(polity):\n",
    "        response: ChatResponse = chat(model='deepseek-r1', messages=[\n",
    "            {\n",
    "                'role': 'user',\n",
    "                'content': prompt_func(seshat_df, polity, variable, definition),\n",
    "            },\n",
    "        ])\n",
    "        return response\n",
    "\n",
    "    responses = pd.DataFrame(columns=['new_name', 'answer', 'full'])\n",
    "    for polity in seshat_df['new_name']:\n",
    "        if count is not None and len(responses) >= count:\n",
    "            break\n",
    "        response = generate_response(polity)\n",
    "        while 'XXXabsentXXX' not in response.message.content and 'XXXpresentXXX' not in response.message.content:\n",
    "            response = generate_response(polity)  # Keep asking until we get a valid response\n",
    "        answer = re.search(r'(XXXabsentXXX|XXXpresentXXX)', response.message.content).group(1)\n",
    "        answer = answer.replace(\"XXX\", \"\")\n",
    "\n",
    "        # Add the new row to the DataFrame using pd.concat\n",
    "        responses = pd.concat([responses, pd.DataFrame([{\n",
    "            'new_name': polity,\n",
    "            'answer': answer,\n",
    "            'full': response.message.content\n",
    "        }])], ignore_index=True)\n",
    "\n",
    "    return responses"
   ]
  },
  {
   "cell_type": "markdown",
   "metadata": {},
   "source": [
    "Now let's generate the answer data for this variable across polities in our dataset:"
   ]
  },
  {
   "cell_type": "code",
   "execution_count": 57,
   "metadata": {},
   "outputs": [],
   "source": [
    "# Get the responses for the scientific literature variable - uncomment to run (you can set count to limit the number of responses)\n",
    "# scientific_literature_responses = deepseek_responses(polities_with_scientific_literatures_df, variable, definition)"
   ]
  },
  {
   "cell_type": "code",
   "execution_count": 58,
   "metadata": {},
   "outputs": [],
   "source": [
    "# Save the responses to a CSV file - uncomment to run\n",
    "# scientific_literature_responses.to_csv('scientific_literature_responses.csv', index=False)\n",
    "\n",
    "# Load the responses from the CSV file\n",
    "scientific_literature_responses = pd.read_csv('scientific_literature_responses.csv')"
   ]
  },
  {
   "cell_type": "code",
   "execution_count": 59,
   "metadata": {},
   "outputs": [
    {
     "data": {
      "text/html": [
       "<div>\n",
       "<style scoped>\n",
       "    .dataframe tbody tr th:only-of-type {\n",
       "        vertical-align: middle;\n",
       "    }\n",
       "\n",
       "    .dataframe tbody tr th {\n",
       "        vertical-align: top;\n",
       "    }\n",
       "\n",
       "    .dataframe thead th {\n",
       "        text-align: right;\n",
       "    }\n",
       "</style>\n",
       "<table border=\"1\" class=\"dataframe\">\n",
       "  <thead>\n",
       "    <tr style=\"text-align: right;\">\n",
       "      <th></th>\n",
       "      <th>new_name</th>\n",
       "      <th>answer</th>\n",
       "      <th>full</th>\n",
       "    </tr>\n",
       "  </thead>\n",
       "  <tbody>\n",
       "    <tr>\n",
       "      <th>42</th>\n",
       "      <td>eg_old_k_1</td>\n",
       "      <td>present</td>\n",
       "      <td>&lt;think&gt;\\nOkay, so I need to figure out whether...</td>\n",
       "    </tr>\n",
       "    <tr>\n",
       "      <th>60</th>\n",
       "      <td>iq_abbasid_cal_1</td>\n",
       "      <td>present</td>\n",
       "      <td>&lt;think&gt;\\nOkay, so I need to figure out whether...</td>\n",
       "    </tr>\n",
       "    <tr>\n",
       "      <th>13</th>\n",
       "      <td>tr_konya_lnl</td>\n",
       "      <td>present</td>\n",
       "      <td>&lt;think&gt;\\nOkay, so I need to figure out whether...</td>\n",
       "    </tr>\n",
       "    <tr>\n",
       "      <th>10</th>\n",
       "      <td>tr_east_roman_emp</td>\n",
       "      <td>present</td>\n",
       "      <td>&lt;think&gt;\\nOkay, so I need to figure out whether...</td>\n",
       "    </tr>\n",
       "    <tr>\n",
       "      <th>28</th>\n",
       "      <td>cn_eastern_han_dyn</td>\n",
       "      <td>present</td>\n",
       "      <td>&lt;think&gt;\\nOkay, so I have this question about t...</td>\n",
       "    </tr>\n",
       "  </tbody>\n",
       "</table>\n",
       "</div>"
      ],
      "text/plain": [
       "              new_name   answer  \\\n",
       "42          eg_old_k_1  present   \n",
       "60    iq_abbasid_cal_1  present   \n",
       "13        tr_konya_lnl  present   \n",
       "10   tr_east_roman_emp  present   \n",
       "28  cn_eastern_han_dyn  present   \n",
       "\n",
       "                                                 full  \n",
       "42  <think>\\nOkay, so I need to figure out whether...  \n",
       "60  <think>\\nOkay, so I need to figure out whether...  \n",
       "13  <think>\\nOkay, so I need to figure out whether...  \n",
       "10  <think>\\nOkay, so I need to figure out whether...  \n",
       "28  <think>\\nOkay, so I have this question about t...  "
      ]
     },
     "execution_count": 59,
     "metadata": {},
     "output_type": "execute_result"
    }
   ],
   "source": [
    "scientific_literature_responses.sample(5)"
   ]
  },
  {
   "cell_type": "markdown",
   "metadata": {},
   "source": [
    "### How well did the model perform?\n",
    "\n",
    "Let's do a simple check to see what percentage of the answers were correct, according to the Seshat ground truth:"
   ]
  },
  {
   "cell_type": "code",
   "execution_count": 60,
   "metadata": {},
   "outputs": [],
   "source": [
    "def performance(polities_df, responses_df, variable_id):\n",
    "    total = 0\n",
    "    correct = 0\n",
    "    for _, response in responses_df.iterrows():\n",
    "        polity = response['new_name']\n",
    "        seshat_answer = polities_df[polities_df['new_name'] == polity][variable_id].values[0]\n",
    "        if seshat_answer == response['answer']:\n",
    "            correct += 1\n",
    "        # print(polity, \": \", seshat_answer, response['answer'])\n",
    "        total += 1\n",
    "    percentage = correct / total * 100\n",
    "    print(f\"Correct: {correct}, Total: {total}, Percentage: {percentage:.2f}%\")\n",
    "    return percentage"
   ]
  },
  {
   "cell_type": "code",
   "execution_count": 61,
   "metadata": {},
   "outputs": [
    {
     "name": "stdout",
     "output_type": "stream",
     "text": [
      "Correct: 79, Total: 150, Percentage: 52.67%\n"
     ]
    },
    {
     "data": {
      "text/plain": [
       "52.666666666666664"
      ]
     },
     "execution_count": 61,
     "metadata": {},
     "output_type": "execute_result"
    }
   ],
   "source": [
    "performance(polities_with_scientific_literatures_df, scientific_literature_responses, 'scientific_literature')"
   ]
  },
  {
   "cell_type": "markdown",
   "metadata": {},
   "source": [
    "## Let's try that again\n",
    "\n",
    "Now let's run the pipeline again with a different variable:"
   ]
  },
  {
   "cell_type": "code",
   "execution_count": 62,
   "metadata": {},
   "outputs": [
    {
     "name": "stdout",
     "output_type": "stream",
     "text": [
      "There are 112 drinking_water_supply_system records after filtering.\n"
     ]
    },
    {
     "data": {
      "text/html": [
       "<div>\n",
       "<style scoped>\n",
       "    .dataframe tbody tr th:only-of-type {\n",
       "        vertical-align: middle;\n",
       "    }\n",
       "\n",
       "    .dataframe tbody tr th {\n",
       "        vertical-align: top;\n",
       "    }\n",
       "\n",
       "    .dataframe thead th {\n",
       "        text-align: right;\n",
       "    }\n",
       "</style>\n",
       "<table border=\"1\" class=\"dataframe\">\n",
       "  <thead>\n",
       "    <tr style=\"text-align: right;\">\n",
       "      <th></th>\n",
       "      <th>new_name</th>\n",
       "      <th>long_name</th>\n",
       "      <th>start_year</th>\n",
       "      <th>end_year</th>\n",
       "      <th>drinking_water_supply_system</th>\n",
       "      <th>general_description</th>\n",
       "    </tr>\n",
       "  </thead>\n",
       "  <tbody>\n",
       "    <tr>\n",
       "      <th>80</th>\n",
       "      <td>tr_konya_lba</td>\n",
       "      <td>Konya Plain - Late Bronze Age II</td>\n",
       "      <td>-1500</td>\n",
       "      <td>-1400</td>\n",
       "      <td>absent</td>\n",
       "      <td>The period of 1500-1400 BCE was an 'intermedia...</td>\n",
       "    </tr>\n",
       "    <tr>\n",
       "      <th>136</th>\n",
       "      <td>ir_achaemenid_emp</td>\n",
       "      <td>Achaemenid Empire</td>\n",
       "      <td>-550</td>\n",
       "      <td>-331</td>\n",
       "      <td>present</td>\n",
       "      <td>The Achaemenid Empire was established by Cyrus...</td>\n",
       "    </tr>\n",
       "    <tr>\n",
       "      <th>45</th>\n",
       "      <td>it_western_roman_emp</td>\n",
       "      <td>Western Roman Empire - Late Antiquity</td>\n",
       "      <td>395</td>\n",
       "      <td>476</td>\n",
       "      <td>absent</td>\n",
       "      <td>The period of the Western Roman Empire begins ...</td>\n",
       "    </tr>\n",
       "    <tr>\n",
       "      <th>77</th>\n",
       "      <td>af_kushan_emp</td>\n",
       "      <td>Kushan Empire</td>\n",
       "      <td>35</td>\n",
       "      <td>319</td>\n",
       "      <td>present</td>\n",
       "      <td>The Kushan Empire was a confederated state hea...</td>\n",
       "    </tr>\n",
       "    <tr>\n",
       "      <th>66</th>\n",
       "      <td>us_cahokia_2</td>\n",
       "      <td>Cahokia - Moorehead</td>\n",
       "      <td>1200</td>\n",
       "      <td>1275</td>\n",
       "      <td>present</td>\n",
       "      <td>Generations of archaeologists have been amazed...</td>\n",
       "    </tr>\n",
       "  </tbody>\n",
       "</table>\n",
       "</div>"
      ],
      "text/plain": [
       "                 new_name                              long_name  start_year  \\\n",
       "80           tr_konya_lba       Konya Plain - Late Bronze Age II       -1500   \n",
       "136     ir_achaemenid_emp                      Achaemenid Empire        -550   \n",
       "45   it_western_roman_emp  Western Roman Empire - Late Antiquity         395   \n",
       "77          af_kushan_emp                          Kushan Empire          35   \n",
       "66           us_cahokia_2                    Cahokia - Moorehead        1200   \n",
       "\n",
       "     end_year drinking_water_supply_system  \\\n",
       "80      -1400                       absent   \n",
       "136      -331                      present   \n",
       "45        476                       absent   \n",
       "77        319                      present   \n",
       "66       1275                      present   \n",
       "\n",
       "                                   general_description  \n",
       "80   The period of 1500-1400 BCE was an 'intermedia...  \n",
       "136  The Achaemenid Empire was established by Cyrus...  \n",
       "45   The period of the Western Roman Empire begins ...  \n",
       "77   The Kushan Empire was a confederated state hea...  \n",
       "66   Generations of archaeologists have been amazed...  "
      ]
     },
     "execution_count": 62,
     "metadata": {},
     "output_type": "execute_result"
    }
   ],
   "source": [
    "from seshat_api.sc import DrinkingWaterSupplies\n",
    "drinking_water_supplies = DrinkingWaterSupplies(client)\n",
    "drinking_water_supplies_df = pd.DataFrame(drinking_water_supplies.get_all())\n",
    "polities_with_drinking_water_supplies_df = process_df(drinking_water_supplies_df, 'drinking_water_supply_system')\n",
    "polities_with_drinking_water_supplies_df.sample(5)"
   ]
  },
  {
   "cell_type": "code",
   "execution_count": 63,
   "metadata": {},
   "outputs": [],
   "source": [
    "# Get the responses for the Drinking Water Supply System variable\n",
    "# polities_with_drinking_water_supplies_responses = deepseek_responses(polities_with_drinking_water_supplies_df,\n",
    "#                                                      'Drinking Water Supply System',\n",
    "#                                                      \"Talking about Specialized Buildings, drinking water supply systems are polity owned (which includes owned by the community, or the state), we have coded the absence or presence of the variable\",\n",
    "#                                                      )"
   ]
  },
  {
   "cell_type": "code",
   "execution_count": 64,
   "metadata": {},
   "outputs": [],
   "source": [
    "# Save the responses to a CSV file\n",
    "# polities_with_drinking_water_supplies_responses.to_csv('polities_with_drinking_water_supplies_responses.csv', index=False)\n",
    "\n",
    "# Load the responses from the CSV file\n",
    "polities_with_drinking_water_supplies_responses = pd.read_csv('polities_with_drinking_water_supplies_responses.csv')"
   ]
  },
  {
   "cell_type": "code",
   "execution_count": 65,
   "metadata": {},
   "outputs": [
    {
     "data": {
      "text/html": [
       "<div>\n",
       "<style scoped>\n",
       "    .dataframe tbody tr th:only-of-type {\n",
       "        vertical-align: middle;\n",
       "    }\n",
       "\n",
       "    .dataframe tbody tr th {\n",
       "        vertical-align: top;\n",
       "    }\n",
       "\n",
       "    .dataframe thead th {\n",
       "        text-align: right;\n",
       "    }\n",
       "</style>\n",
       "<table border=\"1\" class=\"dataframe\">\n",
       "  <thead>\n",
       "    <tr style=\"text-align: right;\">\n",
       "      <th></th>\n",
       "      <th>new_name</th>\n",
       "      <th>answer</th>\n",
       "      <th>full</th>\n",
       "    </tr>\n",
       "  </thead>\n",
       "  <tbody>\n",
       "    <tr>\n",
       "      <th>17</th>\n",
       "      <td>tr_konya_eba</td>\n",
       "      <td>present</td>\n",
       "      <td>&lt;think&gt;\\nOkay, so I need to figure out whether...</td>\n",
       "    </tr>\n",
       "    <tr>\n",
       "      <th>59</th>\n",
       "      <td>in_vijayanagara_emp</td>\n",
       "      <td>present</td>\n",
       "      <td>&lt;think&gt;\\nOkay, so I need to figure out whether...</td>\n",
       "    </tr>\n",
       "    <tr>\n",
       "      <th>52</th>\n",
       "      <td>mx_basin_of_mexico_4</td>\n",
       "      <td>present</td>\n",
       "      <td>&lt;think&gt;\\nOkay, so I need to figure out whether...</td>\n",
       "    </tr>\n",
       "    <tr>\n",
       "      <th>97</th>\n",
       "      <td>ru_sakha_late</td>\n",
       "      <td>present</td>\n",
       "      <td>&lt;think&gt;\\nOkay, so I need to figure out whether...</td>\n",
       "    </tr>\n",
       "    <tr>\n",
       "      <th>22</th>\n",
       "      <td>us_emergent_mississippian_2</td>\n",
       "      <td>absent</td>\n",
       "      <td>&lt;think&gt;\\nAlright, so I need to figure out whet...</td>\n",
       "    </tr>\n",
       "  </tbody>\n",
       "</table>\n",
       "</div>"
      ],
      "text/plain": [
       "                       new_name   answer  \\\n",
       "17                 tr_konya_eba  present   \n",
       "59          in_vijayanagara_emp  present   \n",
       "52         mx_basin_of_mexico_4  present   \n",
       "97                ru_sakha_late  present   \n",
       "22  us_emergent_mississippian_2   absent   \n",
       "\n",
       "                                                 full  \n",
       "17  <think>\\nOkay, so I need to figure out whether...  \n",
       "59  <think>\\nOkay, so I need to figure out whether...  \n",
       "52  <think>\\nOkay, so I need to figure out whether...  \n",
       "97  <think>\\nOkay, so I need to figure out whether...  \n",
       "22  <think>\\nAlright, so I need to figure out whet...  "
      ]
     },
     "execution_count": 65,
     "metadata": {},
     "output_type": "execute_result"
    }
   ],
   "source": [
    "polities_with_drinking_water_supplies_responses.sample(5)"
   ]
  },
  {
   "cell_type": "code",
   "execution_count": 66,
   "metadata": {},
   "outputs": [
    {
     "name": "stdout",
     "output_type": "stream",
     "text": [
      "Correct: 52, Total: 112, Percentage: 46.43%\n"
     ]
    },
    {
     "data": {
      "text/plain": [
       "46.42857142857143"
      ]
     },
     "execution_count": 66,
     "metadata": {},
     "output_type": "execute_result"
    }
   ],
   "source": [
    "performance(polities_with_drinking_water_supplies_df, polities_with_drinking_water_supplies_responses, 'drinking_water_supply_system')"
   ]
  },
  {
   "cell_type": "markdown",
   "metadata": {},
   "source": [
    "## Another one!"
   ]
  },
  {
   "cell_type": "code",
   "execution_count": 67,
   "metadata": {},
   "outputs": [
    {
     "name": "stdout",
     "output_type": "stream",
     "text": [
      "There are 187 road records after filtering.\n"
     ]
    },
    {
     "data": {
      "text/html": [
       "<div>\n",
       "<style scoped>\n",
       "    .dataframe tbody tr th:only-of-type {\n",
       "        vertical-align: middle;\n",
       "    }\n",
       "\n",
       "    .dataframe tbody tr th {\n",
       "        vertical-align: top;\n",
       "    }\n",
       "\n",
       "    .dataframe thead th {\n",
       "        text-align: right;\n",
       "    }\n",
       "</style>\n",
       "<table border=\"1\" class=\"dataframe\">\n",
       "  <thead>\n",
       "    <tr style=\"text-align: right;\">\n",
       "      <th></th>\n",
       "      <th>new_name</th>\n",
       "      <th>long_name</th>\n",
       "      <th>start_year</th>\n",
       "      <th>end_year</th>\n",
       "      <th>road</th>\n",
       "      <th>general_description</th>\n",
       "    </tr>\n",
       "  </thead>\n",
       "  <tbody>\n",
       "    <tr>\n",
       "      <th>250</th>\n",
       "      <td>tr_ottoman_emp_2</td>\n",
       "      <td>Ottoman Empire II</td>\n",
       "      <td>1517</td>\n",
       "      <td>1683</td>\n",
       "      <td>present</td>\n",
       "      <td>In the 15th century CE, the Turkic Ottoman Sul...</td>\n",
       "    </tr>\n",
       "    <tr>\n",
       "      <th>131</th>\n",
       "      <td>es_spanish_emp_1</td>\n",
       "      <td>Spanish Empire I</td>\n",
       "      <td>1516</td>\n",
       "      <td>1715</td>\n",
       "      <td>absent</td>\n",
       "      <td>The Habsburg Dynasty came together as Ferdinan...</td>\n",
       "    </tr>\n",
       "    <tr>\n",
       "      <th>199</th>\n",
       "      <td>it_roman_rep_2</td>\n",
       "      <td>Middle Roman Republic</td>\n",
       "      <td>-264</td>\n",
       "      <td>-133</td>\n",
       "      <td>present</td>\n",
       "      <td>The last of the Roman kings, the tyrannical Lu...</td>\n",
       "    </tr>\n",
       "    <tr>\n",
       "      <th>171</th>\n",
       "      <td>ir_susiana_archaic</td>\n",
       "      <td>Susiana - Muhammad Jaffar</td>\n",
       "      <td>-7000</td>\n",
       "      <td>-6000</td>\n",
       "      <td>present</td>\n",
       "      <td>\"The Archaic Susiana 0 Phase. The appearance o...</td>\n",
       "    </tr>\n",
       "    <tr>\n",
       "      <th>158</th>\n",
       "      <td>mn_mongol_emp</td>\n",
       "      <td>Mongol Empire</td>\n",
       "      <td>1206</td>\n",
       "      <td>1270</td>\n",
       "      <td>absent</td>\n",
       "      <td>The Mongols began as one of a group of nomadic...</td>\n",
       "    </tr>\n",
       "  </tbody>\n",
       "</table>\n",
       "</div>"
      ],
      "text/plain": [
       "               new_name                  long_name  start_year  end_year  \\\n",
       "250    tr_ottoman_emp_2          Ottoman Empire II        1517      1683   \n",
       "131    es_spanish_emp_1           Spanish Empire I        1516      1715   \n",
       "199      it_roman_rep_2      Middle Roman Republic        -264      -133   \n",
       "171  ir_susiana_archaic  Susiana - Muhammad Jaffar       -7000     -6000   \n",
       "158       mn_mongol_emp              Mongol Empire        1206      1270   \n",
       "\n",
       "        road                                general_description  \n",
       "250  present  In the 15th century CE, the Turkic Ottoman Sul...  \n",
       "131   absent  The Habsburg Dynasty came together as Ferdinan...  \n",
       "199  present  The last of the Roman kings, the tyrannical Lu...  \n",
       "171  present  \"The Archaic Susiana 0 Phase. The appearance o...  \n",
       "158   absent  The Mongols began as one of a group of nomadic...  "
      ]
     },
     "execution_count": 67,
     "metadata": {},
     "output_type": "execute_result"
    }
   ],
   "source": [
    "from seshat_api.sc import Roads\n",
    "roads = Roads(client)\n",
    "roads_df = pd.DataFrame(roads.get_all())\n",
    "polities_with_roads_df = process_df(roads_df, 'road')\n",
    "polities_with_roads_df.sample(5)"
   ]
  },
  {
   "cell_type": "code",
   "execution_count": 68,
   "metadata": {},
   "outputs": [],
   "source": [
    "# Get the responses for the Roads variable\n",
    "# polities_with_roads_responses = deepseek_responses(polities_with_roads_df,\n",
    "#                                                      'Roads',\n",
    "#                                                      \"Talking about Transport infrastructure, roads refers to deliberately constructed roads that connect settlements or other sites. It excludes streets/accessways within settlements and paths between settlements that develop through repeated use\"\n",
    "#                                                      )"
   ]
  },
  {
   "cell_type": "code",
   "execution_count": 69,
   "metadata": {},
   "outputs": [],
   "source": [
    "# Save the responses to a CSV file\n",
    "# polities_with_roads_responses.to_csv('polities_with_roads_responses.csv', index=False)\n",
    "\n",
    "# Load the responses from the CSV file\n",
    "polities_with_roads_responses = pd.read_csv('polities_with_roads_responses.csv')"
   ]
  },
  {
   "cell_type": "code",
   "execution_count": 70,
   "metadata": {},
   "outputs": [
    {
     "data": {
      "text/html": [
       "<div>\n",
       "<style scoped>\n",
       "    .dataframe tbody tr th:only-of-type {\n",
       "        vertical-align: middle;\n",
       "    }\n",
       "\n",
       "    .dataframe tbody tr th {\n",
       "        vertical-align: top;\n",
       "    }\n",
       "\n",
       "    .dataframe thead th {\n",
       "        text-align: right;\n",
       "    }\n",
       "</style>\n",
       "<table border=\"1\" class=\"dataframe\">\n",
       "  <thead>\n",
       "    <tr style=\"text-align: right;\">\n",
       "      <th></th>\n",
       "      <th>new_name</th>\n",
       "      <th>answer</th>\n",
       "      <th>full</th>\n",
       "    </tr>\n",
       "  </thead>\n",
       "  <tbody>\n",
       "    <tr>\n",
       "      <th>93</th>\n",
       "      <td>ir_elymais_2</td>\n",
       "      <td>present</td>\n",
       "      <td>&lt;think&gt;\\nAlright, so I'm trying to figure out ...</td>\n",
       "    </tr>\n",
       "    <tr>\n",
       "      <th>53</th>\n",
       "      <td>it_venetian_rep_4</td>\n",
       "      <td>absent</td>\n",
       "      <td>&lt;think&gt;\\nOkay, so I need to figure out whether...</td>\n",
       "    </tr>\n",
       "    <tr>\n",
       "      <th>45</th>\n",
       "      <td>af_hephthalite_emp</td>\n",
       "      <td>absent</td>\n",
       "      <td>&lt;think&gt;\\nOkay, so I need to figure out whether...</td>\n",
       "    </tr>\n",
       "    <tr>\n",
       "      <th>127</th>\n",
       "      <td>jp_kamakura</td>\n",
       "      <td>absent</td>\n",
       "      <td>&lt;think&gt;\\nOkay, so I need to figure out whether...</td>\n",
       "    </tr>\n",
       "    <tr>\n",
       "      <th>110</th>\n",
       "      <td>ir_susa_1</td>\n",
       "      <td>present</td>\n",
       "      <td>&lt;think&gt;\\nOkay, so I need to figure out whether...</td>\n",
       "    </tr>\n",
       "  </tbody>\n",
       "</table>\n",
       "</div>"
      ],
      "text/plain": [
       "               new_name   answer  \\\n",
       "93         ir_elymais_2  present   \n",
       "53    it_venetian_rep_4   absent   \n",
       "45   af_hephthalite_emp   absent   \n",
       "127         jp_kamakura   absent   \n",
       "110           ir_susa_1  present   \n",
       "\n",
       "                                                  full  \n",
       "93   <think>\\nAlright, so I'm trying to figure out ...  \n",
       "53   <think>\\nOkay, so I need to figure out whether...  \n",
       "45   <think>\\nOkay, so I need to figure out whether...  \n",
       "127  <think>\\nOkay, so I need to figure out whether...  \n",
       "110  <think>\\nOkay, so I need to figure out whether...  "
      ]
     },
     "execution_count": 70,
     "metadata": {},
     "output_type": "execute_result"
    }
   ],
   "source": [
    "polities_with_roads_responses.sample(5)"
   ]
  },
  {
   "cell_type": "code",
   "execution_count": 71,
   "metadata": {},
   "outputs": [
    {
     "name": "stdout",
     "output_type": "stream",
     "text": [
      "Correct: 110, Total: 187, Percentage: 58.82%\n"
     ]
    },
    {
     "data": {
      "text/plain": [
       "58.82352941176471"
      ]
     },
     "execution_count": 71,
     "metadata": {},
     "output_type": "execute_result"
    }
   ],
   "source": [
    "performance(polities_with_roads_df, polities_with_roads_responses, 'road')"
   ]
  },
  {
   "cell_type": "markdown",
   "metadata": {},
   "source": [
    "## One more..."
   ]
  },
  {
   "cell_type": "code",
   "execution_count": 72,
   "metadata": {},
   "outputs": [
    {
     "name": "stdout",
     "output_type": "stream",
     "text": [
      "There are 337 iron records after filtering.\n"
     ]
    },
    {
     "data": {
      "text/html": [
       "<div>\n",
       "<style scoped>\n",
       "    .dataframe tbody tr th:only-of-type {\n",
       "        vertical-align: middle;\n",
       "    }\n",
       "\n",
       "    .dataframe tbody tr th {\n",
       "        vertical-align: top;\n",
       "    }\n",
       "\n",
       "    .dataframe thead th {\n",
       "        text-align: right;\n",
       "    }\n",
       "</style>\n",
       "<table border=\"1\" class=\"dataframe\">\n",
       "  <thead>\n",
       "    <tr style=\"text-align: right;\">\n",
       "      <th></th>\n",
       "      <th>new_name</th>\n",
       "      <th>long_name</th>\n",
       "      <th>start_year</th>\n",
       "      <th>end_year</th>\n",
       "      <th>iron</th>\n",
       "      <th>general_description</th>\n",
       "    </tr>\n",
       "  </thead>\n",
       "  <tbody>\n",
       "    <tr>\n",
       "      <th>138</th>\n",
       "      <td>af_hephthalite_emp</td>\n",
       "      <td>Hephthalites</td>\n",
       "      <td>408</td>\n",
       "      <td>561</td>\n",
       "      <td>absent</td>\n",
       "      <td>The Hepthalites were one group of a series of ...</td>\n",
       "    </tr>\n",
       "    <tr>\n",
       "      <th>159</th>\n",
       "      <td>ec_shuar_1</td>\n",
       "      <td>Shuar - Colonial</td>\n",
       "      <td>1534</td>\n",
       "      <td>1830</td>\n",
       "      <td>absent</td>\n",
       "      <td>The forested foothills of the Andes, near the ...</td>\n",
       "    </tr>\n",
       "    <tr>\n",
       "      <th>344</th>\n",
       "      <td>eg_dynasty_2</td>\n",
       "      <td>Egypt - Dynasty II</td>\n",
       "      <td>-2900</td>\n",
       "      <td>-2687</td>\n",
       "      <td>present</td>\n",
       "      <td>The Second Dynasty of Egypt (c. 2900‒2687 BCE)...</td>\n",
       "    </tr>\n",
       "    <tr>\n",
       "      <th>154</th>\n",
       "      <td>cn_qing_dyn_2</td>\n",
       "      <td>Late Qing</td>\n",
       "      <td>1796</td>\n",
       "      <td>1912</td>\n",
       "      <td>present</td>\n",
       "      <td>The Qing Dynasty (or Empire of the Great Qing,...</td>\n",
       "    </tr>\n",
       "    <tr>\n",
       "      <th>307</th>\n",
       "      <td>pg_orokaiva_colonial</td>\n",
       "      <td>Orokaiva - Colonial</td>\n",
       "      <td>1884</td>\n",
       "      <td>1942</td>\n",
       "      <td>absent</td>\n",
       "      <td>The Northern Province of Papua New Guinea has ...</td>\n",
       "    </tr>\n",
       "  </tbody>\n",
       "</table>\n",
       "</div>"
      ],
      "text/plain": [
       "                 new_name            long_name  start_year  end_year     iron  \\\n",
       "138    af_hephthalite_emp         Hephthalites         408       561   absent   \n",
       "159            ec_shuar_1     Shuar - Colonial        1534      1830   absent   \n",
       "344          eg_dynasty_2   Egypt - Dynasty II       -2900     -2687  present   \n",
       "154         cn_qing_dyn_2            Late Qing        1796      1912  present   \n",
       "307  pg_orokaiva_colonial  Orokaiva - Colonial        1884      1942   absent   \n",
       "\n",
       "                                   general_description  \n",
       "138  The Hepthalites were one group of a series of ...  \n",
       "159  The forested foothills of the Andes, near the ...  \n",
       "344  The Second Dynasty of Egypt (c. 2900‒2687 BCE)...  \n",
       "154  The Qing Dynasty (or Empire of the Great Qing,...  \n",
       "307  The Northern Province of Papua New Guinea has ...  "
      ]
     },
     "execution_count": 72,
     "metadata": {},
     "output_type": "execute_result"
    }
   ],
   "source": [
    "from seshat_api.wf import Irons\n",
    "irons = Irons(client)\n",
    "irons_df = pd.DataFrame(irons.get_all())\n",
    "polities_with_irons_df = process_df(irons_df, 'iron')\n",
    "polities_with_irons_df.sample(5)"
   ]
  },
  {
   "cell_type": "code",
   "execution_count": 73,
   "metadata": {},
   "outputs": [],
   "source": [
    "# Get the responses for the Military use of Metals: Iron variable\n",
    "# polities_with_irons_responses = deepseek_responses(polities_with_irons_df,\n",
    "#                                                      'Military use of Metals: Iron',\n",
    "#                                                      \"The absence or presence of iron as a military technology used in warfare\"\n",
    "#                                                      )"
   ]
  },
  {
   "cell_type": "code",
   "execution_count": 74,
   "metadata": {},
   "outputs": [],
   "source": [
    "# Save the responses to a CSV file\n",
    "# polities_with_irons_responses.to_csv('polities_with_irons_responses.csv', index=False)\n",
    "\n",
    "# Load the responses from the CSV file\n",
    "polities_with_irons_responses = pd.read_csv('polities_with_irons_responses.csv')"
   ]
  },
  {
   "cell_type": "code",
   "execution_count": 75,
   "metadata": {},
   "outputs": [
    {
     "data": {
      "text/html": [
       "<div>\n",
       "<style scoped>\n",
       "    .dataframe tbody tr th:only-of-type {\n",
       "        vertical-align: middle;\n",
       "    }\n",
       "\n",
       "    .dataframe tbody tr th {\n",
       "        vertical-align: top;\n",
       "    }\n",
       "\n",
       "    .dataframe thead th {\n",
       "        text-align: right;\n",
       "    }\n",
       "</style>\n",
       "<table border=\"1\" class=\"dataframe\">\n",
       "  <thead>\n",
       "    <tr style=\"text-align: right;\">\n",
       "      <th></th>\n",
       "      <th>new_name</th>\n",
       "      <th>answer</th>\n",
       "      <th>full</th>\n",
       "    </tr>\n",
       "  </thead>\n",
       "  <tbody>\n",
       "    <tr>\n",
       "      <th>318</th>\n",
       "      <td>tr_rum_sultanate</td>\n",
       "      <td>present</td>\n",
       "      <td>&lt;think&gt;\\nOkay, so I need to figure out whether...</td>\n",
       "    </tr>\n",
       "    <tr>\n",
       "      <th>147</th>\n",
       "      <td>cn_peiligang</td>\n",
       "      <td>present</td>\n",
       "      <td>&lt;think&gt;\\nOkay, so I need to figure out whether...</td>\n",
       "    </tr>\n",
       "    <tr>\n",
       "      <th>62</th>\n",
       "      <td>iq_abbasid_cal_1</td>\n",
       "      <td>present</td>\n",
       "      <td>&lt;think&gt;\\nAlright, so I need to figure out whet...</td>\n",
       "    </tr>\n",
       "    <tr>\n",
       "      <th>256</th>\n",
       "      <td>ml_jenne_jeno_1</td>\n",
       "      <td>present</td>\n",
       "      <td>&lt;think&gt;\\nOkay, so I'm trying to figure out whe...</td>\n",
       "    </tr>\n",
       "    <tr>\n",
       "      <th>194</th>\n",
       "      <td>ir_elam_7</td>\n",
       "      <td>present</td>\n",
       "      <td>&lt;think&gt;\\nOkay, so I need to figure out whether...</td>\n",
       "    </tr>\n",
       "  </tbody>\n",
       "</table>\n",
       "</div>"
      ],
      "text/plain": [
       "             new_name   answer  \\\n",
       "318  tr_rum_sultanate  present   \n",
       "147      cn_peiligang  present   \n",
       "62   iq_abbasid_cal_1  present   \n",
       "256   ml_jenne_jeno_1  present   \n",
       "194         ir_elam_7  present   \n",
       "\n",
       "                                                  full  \n",
       "318  <think>\\nOkay, so I need to figure out whether...  \n",
       "147  <think>\\nOkay, so I need to figure out whether...  \n",
       "62   <think>\\nAlright, so I need to figure out whet...  \n",
       "256  <think>\\nOkay, so I'm trying to figure out whe...  \n",
       "194  <think>\\nOkay, so I need to figure out whether...  "
      ]
     },
     "execution_count": 75,
     "metadata": {},
     "output_type": "execute_result"
    }
   ],
   "source": [
    "polities_with_irons_responses.sample(5)"
   ]
  },
  {
   "cell_type": "code",
   "execution_count": 78,
   "metadata": {},
   "outputs": [
    {
     "name": "stdout",
     "output_type": "stream",
     "text": [
      "Correct: 209, Total: 337, Percentage: 62.02%\n"
     ]
    },
    {
     "data": {
      "text/plain": [
       "62.01780415430267"
      ]
     },
     "execution_count": 78,
     "metadata": {},
     "output_type": "execute_result"
    }
   ],
   "source": [
    "performance(polities_with_irons_df, polities_with_irons_responses, 'iron')"
   ]
  },
  {
   "cell_type": "markdown",
   "metadata": {},
   "source": [
    "# Conclusion\n",
    "\n",
    "Using DeepSeek-R1, as an example of a recent language model with advanced capabilities, we have provided a series of prompts to test its knowledge of history, using expert reviewed data from the Seshat Global History data as a ground truth. We have specifically asked a set of questions that would require some level of reasoning, rather than just knowledge. Since the model was run locally, it was unable to query online resources, all answers coming directly from the model itself.\n",
    "\n",
    "The questions are all about social complexity and military technology, and pertain to variables for which data has been collected in Seshat, across a range of historical polities. These polities vary by era and geography, but the only information we gave the LLM was the polity name and the years in which it was active. The prompts read something like this:\n",
    "\n",
    "> \"Use your knowledge of world history to answer the following question. Given your knowledge of the historical polity **'Fatimid Caliphate'**, a polity that existed between **909 CE** and **1171 CE**, do you expect that **Scientific Literature** was *present* or *absent*? **Scientific Literature** is defined as: **'Talking about Kinds of Written Documents, Scientific literature includes mathematics, natural sciences, social sciences'**. Answer *'XXXpresentXXX'* if you expect it to be present, and *'XXXabsentXXX'* if you expect it to be absent.\"\n",
    "\n",
    "We then extracted the answers from DeepSeek's responses. The results showed that the number of correct answers was not far from **50%**, which is what you might expect if it was picking at random given the binary choice of \"absent\" and \"present\" (other values such as \"transitional\" and \"unknown\" exist for these variables in Seshat data, but we didn't include those polities here).\n",
    "\n",
    "In the CSV example answers I have saved in this repository, the results in terms of correct answers were:\n",
    "- Scientific Literature: 52.67% (79/150) \n",
    "- Drinking Water Supply System: 46.43% (52/112)\n",
    "- Roads: 58.82% (110/187) \n",
    "- Military use of Metals - Iron: 62.02% (209/337)"
   ]
  }
 ],
 "metadata": {
  "kernelspec": {
   "display_name": "Python (seshat_api_1)",
   "language": "python",
   "name": "seshat_api_1"
  },
  "language_info": {
   "codemirror_mode": {
    "name": "ipython",
    "version": 3
   },
   "file_extension": ".py",
   "mimetype": "text/x-python",
   "name": "python",
   "nbconvert_exporter": "python",
   "pygments_lexer": "ipython3",
   "version": "3.11.10"
  }
 },
 "nbformat": 4,
 "nbformat_minor": 2
}
