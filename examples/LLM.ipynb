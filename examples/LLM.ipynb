{
 "cells": [
  {
   "cell_type": "code",
   "execution_count": null,
   "metadata": {},
   "outputs": [],
   "source": [
    "from seshat_api import SeshatAPI\n",
    "import pandas as pd\n",
    "import matplotlib.pyplot as plt\n",
    "from ollama import chat, ChatResponse"
   ]
  },
  {
   "cell_type": "markdown",
   "metadata": {},
   "source": [
    "# Questions for LLMs\n",
    "\n",
    "1. Can LLMs predict where on a complexity scale such as \"Settlement hierarchy\" polities fall, given a definition of the complexity scale and the name of the polity (and dates)\n",
    "2. Can LLMs predict specific absent/present variables for polities, given a definition of that variable and the name of the polity (and dates)"
   ]
  },
  {
   "cell_type": "code",
   "execution_count": null,
   "metadata": {},
   "outputs": [],
   "source": [
    "client = SeshatAPI(base_url=\"https://seshat-db.com/api\")"
   ]
  },
  {
   "cell_type": "code",
   "execution_count": null,
   "metadata": {},
   "outputs": [],
   "source": [
    "from seshat_api.sc import SettlementHierarchies\n",
    "settlement_hierarchies = SettlementHierarchies(client)\n",
    "settlement_hierarchies_df = pd.DataFrame(settlement_hierarchies.get_all())"
   ]
  },
  {
   "cell_type": "code",
   "execution_count": null,
   "metadata": {},
   "outputs": [],
   "source": [
    "# Extract the polities column to a new dataframe\n",
    "polities_with_settlement_hierarchies_df = pd.DataFrame(settlement_hierarchies_df['polity'].tolist())\n",
    "\n",
    "# Add the settlement_hierarchy_to and settlement_hierarchy_from columns to the new dataframe\n",
    "polities_with_settlement_hierarchies_df['settlement_hierarchy_to'] = settlement_hierarchies_df['settlement_hierarchy_to']\n",
    "polities_with_settlement_hierarchies_df['settlement_hierarchy_from'] = settlement_hierarchies_df['settlement_hierarchy_from']\n",
    "\n",
    "# Remove all rows from the dataframe where the settlement_hierarchy_to column is NaN\n",
    "polities_with_settlement_hierarchies_df = polities_with_settlement_hierarchies_df[polities_with_settlement_hierarchies_df['settlement_hierarchy_to'].notna()]\n",
    "\n",
    "polities_with_settlement_hierarchies_df.sample(5)"
   ]
  },
  {
   "cell_type": "markdown",
   "metadata": {},
   "source": [
    "### Using `polities_with_settlement_hierarchies_df`, plot the relationship between `end_year` and `settlement_hierarchy_to`"
   ]
  },
  {
   "cell_type": "code",
   "execution_count": null,
   "metadata": {},
   "outputs": [],
   "source": [
    "# Calculate the correlation coefficient\n",
    "correlation_coefficient = polities_with_settlement_hierarchies_df['end_year'].corr(polities_with_settlement_hierarchies_df['settlement_hierarchy_to'])\n",
    "\n",
    "# Plot the scatter plot\n",
    "polities_with_settlement_hierarchies_df.plot.scatter(x='end_year', y='settlement_hierarchy_to')\n",
    "\n",
    "# Annotate the plot with the correlation coefficient\n",
    "plt.annotate(f'Correlation: {correlation_coefficient:.2f}', xy=(0.05, 0.95), xycoords='axes fraction', fontsize=12, color='red')\n",
    "\n",
    "plt.show()"
   ]
  },
  {
   "cell_type": "markdown",
   "metadata": {},
   "source": [
    "This shows there's only a weak positive correlation between the year of a polity and it's recorded settlement hierarchy."
   ]
  },
  {
   "cell_type": "code",
   "execution_count": null,
   "metadata": {},
   "outputs": [],
   "source": [
    "settlement_hierarcy_definition = \"Talking about Hierarchical Complexity, Settlement hierarchy records (in levels) the hierarchy of not just settlement sizes, but also their complexity as reflected in different roles they play within the (quasi)polity. As settlements become more populous they acquire more complex functions: transportational (e.g. port); economic (e.g. market); administrative (e.g. storehouse, local government building); cultural (e.g. theatre); religious (e.g. temple), utilitarian (e.g. hospital), monumental (e.g. statues, plazas). Example: (1) Large City (monumental structures, theatre, market, hospital, central government buildings) (2) City (market, theatre, regional government buildings) (3) Large Town (market, administrative buildings) (4) Town (administrative buildings, storehouse)) (5) Village (shrine) (6) Hamlet (residential only). In the narrative paragraph explain the different levels and list their functions. Provide a (crude) estimate of population sizes. For example, Large Town (market, temple, administrative buildings): 2,000-5,000 inhabitants.\""
   ]
  },
  {
   "cell_type": "markdown",
   "metadata": {},
   "source": [
    "# Scientific literature"
   ]
  },
  {
   "cell_type": "code",
   "execution_count": null,
   "metadata": {},
   "outputs": [],
   "source": [
    "from seshat_api.sc import ScientificLiteratures\n",
    "scientific_literatures = ScientificLiteratures(client)\n",
    "scientific_literatures_df = pd.DataFrame(scientific_literatures.get_all())"
   ]
  },
  {
   "cell_type": "code",
   "execution_count": null,
   "metadata": {},
   "outputs": [],
   "source": [
    "scientific_literatures_df.head()"
   ]
  },
  {
   "cell_type": "code",
   "execution_count": null,
   "metadata": {},
   "outputs": [],
   "source": [
    "# Filter out the records that are not expert reviewed\n",
    "scientific_literatures_df = scientific_literatures_df[scientific_literatures_df['expert_reviewed'] == True]\n",
    "len(scientific_literatures_df)"
   ]
  },
  {
   "cell_type": "code",
   "execution_count": null,
   "metadata": {},
   "outputs": [],
   "source": [
    "# Extract the polities column to a new dataframe\n",
    "polities_with_scientific_literatures_df = pd.DataFrame(scientific_literatures_df['polity'].tolist())\n",
    "\n",
    "# Add the settlement_hierarchy_to and scientific_literature columns to the new dataframe\n",
    "polities_with_scientific_literatures_df['scientific_literature'] = scientific_literatures_df['scientific_literature']\n",
    "\n",
    "# Remove all rows from the dataframe where the scientific_literature column is NaN\n",
    "polities_with_scientific_literatures_df = polities_with_scientific_literatures_df[polities_with_scientific_literatures_df['scientific_literature'].notna()]\n",
    "\n",
    "polities_with_scientific_literatures_df.sample(5)"
   ]
  },
  {
   "cell_type": "code",
   "execution_count": null,
   "metadata": {},
   "outputs": [],
   "source": [
    "# Find 2 examples of polities where scientific literature is recorded as present\n",
    "polities_with_scientific_literatures_df[polities_with_scientific_literatures_df['scientific_literature'] == 'present'].sample(2)"
   ]
  },
  {
   "cell_type": "code",
   "execution_count": null,
   "metadata": {},
   "outputs": [],
   "source": [
    "# Find 2 examples of polities where scientific literature is recorded as absent\n",
    "polities_with_scientific_literatures_df[polities_with_scientific_literatures_df['scientific_literature'] == 'absent'].sample(2)"
   ]
  },
  {
   "cell_type": "code",
   "execution_count": null,
   "metadata": {},
   "outputs": [],
   "source": [
    "def year_CE(year):\n",
    "    if year > 0:\n",
    "        return f\"{year} CE\"\n",
    "    else:\n",
    "        return f\"{abs(year)} BCE\"\n",
    "\n",
    "def prompt_func(seshat_df, polity_name, variable, variable_definition):\n",
    "    df = seshat_df[seshat_df['new_name'] == polity_name]\n",
    "    polity = list(df['long_name'])[0]\n",
    "    # description = list(df['general_description'])[0]\n",
    "    start_year = list(df['start_year'])[0]\n",
    "    end_year = list(df['end_year'])[0]\n",
    "    prompt = \"Use your knowledge of world history to answer the following question. \"\n",
    "    prompt += f\"Given your knowledge of the historical polity '{polity}', \"\n",
    "    prompt += f\"a polity that existed between {year_CE(start_year)} and {year_CE(end_year)}\"\n",
    "    prompt += f\", do you expect that {variable} was present or absent? \"\n",
    "    prompt += f\"{variable} is defined as: '{variable_definition}'. \"\n",
    "    prompt += \"Answer 'present' if you expect it to be present, and 'absent' if you expect it to be absent.\"\n",
    "    return prompt\n",
    "    "
   ]
  },
  {
   "cell_type": "code",
   "execution_count": null,
   "metadata": {},
   "outputs": [],
   "source": [
    "variable = 'scientific literature'\n",
    "definition = \"Talking about Kinds of Written Documents, Scientific literature includes mathematics, natural sciences, social sciences\"\n",
    "test_prompt = prompt_func(polities_with_scientific_literatures_df, 'eg_middle_k', variable, definition)\n",
    "test_prompt"
   ]
  },
  {
   "cell_type": "code",
   "execution_count": null,
   "metadata": {},
   "outputs": [],
   "source": [
    "response: ChatResponse = chat(model='deepseek-r1', messages=[\n",
    "  {\n",
    "    'role': 'user',\n",
    "    'content': test_prompt,\n",
    "  },\n",
    "])\n",
    "print(response.message.content)"
   ]
  },
  {
   "cell_type": "code",
   "execution_count": null,
   "metadata": {},
   "outputs": [],
   "source": [
    "response: ChatResponse = chat(model='deepseek-r1', messages=[\n",
    "  {\n",
    "    'role': 'user',\n",
    "    'content': prompt_func(polities_with_scientific_literatures_df, 'eg_ptolemaic_k_2', variable, definition),\n",
    "  },\n",
    "])\n",
    "print(response.message.content)"
   ]
  },
  {
   "cell_type": "code",
   "execution_count": null,
   "metadata": {},
   "outputs": [],
   "source": [
    "response: ChatResponse = chat(model='deepseek-r1', messages=[\n",
    "  {\n",
    "    'role': 'user',\n",
    "    'content': prompt_func(polities_with_scientific_literatures_df, 'ir_safavid_emp', variable, definition),\n",
    "  },\n",
    "])\n",
    "print(response.message.content)"
   ]
  },
  {
   "cell_type": "code",
   "execution_count": null,
   "metadata": {},
   "outputs": [],
   "source": [
    "response: ChatResponse = chat(model='deepseek-r1', messages=[\n",
    "  {\n",
    "    'role': 'user',\n",
    "    'content': prompt_func(polities_with_scientific_literatures_df, 'mx_monte_alban_1_early', variable, definition),\n",
    "  },\n",
    "])\n",
    "print(response.message.content)"
   ]
  }
 ],
 "metadata": {
  "kernelspec": {
   "display_name": "Python (seshat_api_1)",
   "language": "python",
   "name": "seshat_api_1"
  },
  "language_info": {
   "codemirror_mode": {
    "name": "ipython",
    "version": 3
   },
   "file_extension": ".py",
   "mimetype": "text/x-python",
   "name": "python",
   "nbconvert_exporter": "python",
   "pygments_lexer": "ipython3",
   "version": "3.11.10"
  }
 },
 "nbformat": 4,
 "nbformat_minor": 2
}
