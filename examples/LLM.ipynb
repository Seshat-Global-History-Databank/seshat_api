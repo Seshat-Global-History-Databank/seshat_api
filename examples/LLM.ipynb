{
 "cells": [
  {
   "cell_type": "code",
   "execution_count": 1,
   "metadata": {},
   "outputs": [],
   "source": [
    "from seshat_api import SeshatAPI\n",
    "import pandas as pd\n",
    "from ollama import chat, ChatResponse\n",
    "import re"
   ]
  },
  {
   "cell_type": "markdown",
   "metadata": {},
   "source": [
    "# Questions for DeepSeek-R1\n",
    "\n",
    "Can a recent top performing LLM (DeepSeek-R1) correctly predict whether a variable from the Seshat Global History Databank (e.g. \"Scientific Literature\") should be \"present\" or \"absent\" for a selection of polities, given a definition of the variable, the name of the polity and the years in which it existed?\n",
    "\n",
    "If DeepSeek has a good understanding of history, can it use this to guess from the polity name and years what time/place the prompt is referring to, and whether the variable in question would have been present?\n",
    "\n",
    "**Important:** I have included some example CSVs of DeepSeek responses to prompts, since running hundreds of prompts took several hours on my laptop (M1 Mac). If you want to generate new responses from DeepSeek, make sure you uncomment the calls to the `deepseek_responses` function below, but also make sure to *not* overwrite your own responses in the next cell where I load the pre-made responses from CSV."
   ]
  },
  {
   "cell_type": "code",
   "execution_count": 2,
   "metadata": {},
   "outputs": [],
   "source": [
    "client = SeshatAPI(base_url=\"https://seshat-db.com/api\")"
   ]
  },
  {
   "cell_type": "markdown",
   "metadata": {},
   "source": [
    "## Getting data from Seshat\n",
    "\n",
    "First let's define our variable to be used in an LLM prompt later (taken from seshat-db.com), then load the data from the Seshat API to use as our ground truth to test against."
   ]
  },
  {
   "cell_type": "code",
   "execution_count": 3,
   "metadata": {},
   "outputs": [],
   "source": [
    "variable = 'Scientific Literature'\n",
    "definition = \"Talking about Kinds of Written Documents, Scientific literature includes mathematics, natural sciences, social sciences\""
   ]
  },
  {
   "cell_type": "code",
   "execution_count": 4,
   "metadata": {},
   "outputs": [
    {
     "data": {
      "text/plain": [
       "421"
      ]
     },
     "execution_count": 4,
     "metadata": {},
     "output_type": "execute_result"
    }
   ],
   "source": [
    "from seshat_api.sc import ScientificLiteratures\n",
    "scientific_literatures = ScientificLiteratures(client)\n",
    "scientific_literatures_df = pd.DataFrame(scientific_literatures.get_all())\n",
    "len(scientific_literatures_df)"
   ]
  },
  {
   "cell_type": "code",
   "execution_count": 5,
   "metadata": {},
   "outputs": [
    {
     "data": {
      "text/html": [
       "<div>\n",
       "<style scoped>\n",
       "    .dataframe tbody tr th:only-of-type {\n",
       "        vertical-align: middle;\n",
       "    }\n",
       "\n",
       "    .dataframe tbody tr th {\n",
       "        vertical-align: top;\n",
       "    }\n",
       "\n",
       "    .dataframe thead th {\n",
       "        text-align: right;\n",
       "    }\n",
       "</style>\n",
       "<table border=\"1\" class=\"dataframe\">\n",
       "  <thead>\n",
       "    <tr style=\"text-align: right;\">\n",
       "      <th></th>\n",
       "      <th>id</th>\n",
       "      <th>year_from</th>\n",
       "      <th>year_to</th>\n",
       "      <th>description</th>\n",
       "      <th>note</th>\n",
       "      <th>finalized</th>\n",
       "      <th>created_date</th>\n",
       "      <th>modified_date</th>\n",
       "      <th>tag</th>\n",
       "      <th>is_disputed</th>\n",
       "      <th>is_uncertain</th>\n",
       "      <th>expert_reviewed</th>\n",
       "      <th>drb_reviewed</th>\n",
       "      <th>name</th>\n",
       "      <th>scientific_literature</th>\n",
       "      <th>polity</th>\n",
       "      <th>comment</th>\n",
       "      <th>private_comment</th>\n",
       "      <th>citations</th>\n",
       "      <th>curator</th>\n",
       "    </tr>\n",
       "  </thead>\n",
       "  <tbody>\n",
       "    <tr>\n",
       "      <th>0</th>\n",
       "      <td>154</td>\n",
       "      <td>930.0</td>\n",
       "      <td>1100.0</td>\n",
       "      <td>absent/present/unknown Durrenberger notes the...</td>\n",
       "      <td>None</td>\n",
       "      <td>True</td>\n",
       "      <td>None</td>\n",
       "      <td>None</td>\n",
       "      <td>TRS</td>\n",
       "      <td>False</td>\n",
       "      <td>False</td>\n",
       "      <td>True</td>\n",
       "      <td>None</td>\n",
       "      <td>scientific_literature</td>\n",
       "      <td>absent</td>\n",
       "      <td>{'id': 115, 'name': 'IsCommw', 'start_year': 9...</td>\n",
       "      <td>None</td>\n",
       "      <td>{'id': 1, 'text': 'NO_PRIVATE_COMMENTS'}</td>\n",
       "      <td>[]</td>\n",
       "      <td>[]</td>\n",
       "    </tr>\n",
       "    <tr>\n",
       "      <th>1</th>\n",
       "      <td>467</td>\n",
       "      <td>1066.0</td>\n",
       "      <td>1115.0</td>\n",
       "      <td></td>\n",
       "      <td>None</td>\n",
       "      <td>False</td>\n",
       "      <td>2024-11-24T18:12:19.616490Z</td>\n",
       "      <td>2024-11-24T18:14:04.438817Z</td>\n",
       "      <td>SSP</td>\n",
       "      <td>False</td>\n",
       "      <td>False</td>\n",
       "      <td>False</td>\n",
       "      <td>False</td>\n",
       "      <td>Scientific_literature</td>\n",
       "      <td>absent</td>\n",
       "      <td>{'id': 586, 'name': 'gb_england_norman', 'star...</td>\n",
       "      <td>{'id': 1029, 'text': 'a new_comment_text'}</td>\n",
       "      <td>None</td>\n",
       "      <td>[]</td>\n",
       "      <td>[]</td>\n",
       "    </tr>\n",
       "    <tr>\n",
       "      <th>2</th>\n",
       "      <td>155</td>\n",
       "      <td>1101.0</td>\n",
       "      <td>1262.0</td>\n",
       "      <td>absent/present/unknown Durrenberger notes the...</td>\n",
       "      <td>None</td>\n",
       "      <td>True</td>\n",
       "      <td>None</td>\n",
       "      <td>None</td>\n",
       "      <td>TRS</td>\n",
       "      <td>False</td>\n",
       "      <td>False</td>\n",
       "      <td>True</td>\n",
       "      <td>None</td>\n",
       "      <td>scientific_literature</td>\n",
       "      <td>present</td>\n",
       "      <td>{'id': 115, 'name': 'IsCommw', 'start_year': 9...</td>\n",
       "      <td>None</td>\n",
       "      <td>{'id': 1, 'text': 'NO_PRIVATE_COMMENTS'}</td>\n",
       "      <td>[]</td>\n",
       "      <td>[]</td>\n",
       "    </tr>\n",
       "    <tr>\n",
       "      <th>3</th>\n",
       "      <td>466</td>\n",
       "      <td>1116.0</td>\n",
       "      <td>1153.0</td>\n",
       "      <td></td>\n",
       "      <td>None</td>\n",
       "      <td>False</td>\n",
       "      <td>2024-11-24T17:57:20.281912Z</td>\n",
       "      <td>2024-11-24T18:05:21.430097Z</td>\n",
       "      <td>TRS</td>\n",
       "      <td>False</td>\n",
       "      <td>False</td>\n",
       "      <td>False</td>\n",
       "      <td>False</td>\n",
       "      <td>Scientific_literature</td>\n",
       "      <td>present</td>\n",
       "      <td>{'id': 586, 'name': 'gb_england_norman', 'star...</td>\n",
       "      <td>{'id': 1028, 'text': 'a new_comment_text'}</td>\n",
       "      <td>None</td>\n",
       "      <td>[]</td>\n",
       "      <td>[]</td>\n",
       "    </tr>\n",
       "    <tr>\n",
       "      <th>4</th>\n",
       "      <td>236</td>\n",
       "      <td>1200.0</td>\n",
       "      <td>1299.0</td>\n",
       "      <td>\"Astronomical almanacs inferred for Classic p...</td>\n",
       "      <td>None</td>\n",
       "      <td>True</td>\n",
       "      <td>None</td>\n",
       "      <td>None</td>\n",
       "      <td>SSP</td>\n",
       "      <td>False</td>\n",
       "      <td>False</td>\n",
       "      <td>True</td>\n",
       "      <td>None</td>\n",
       "      <td>scientific_literature</td>\n",
       "      <td>unknown</td>\n",
       "      <td>{'id': 15, 'name': 'MxPostM', 'start_year': 12...</td>\n",
       "      <td>None</td>\n",
       "      <td>{'id': 1, 'text': 'NO_PRIVATE_COMMENTS'}</td>\n",
       "      <td>[]</td>\n",
       "      <td>[]</td>\n",
       "    </tr>\n",
       "  </tbody>\n",
       "</table>\n",
       "</div>"
      ],
      "text/plain": [
       "    id  year_from  year_to                                        description  \\\n",
       "0  154      930.0   1100.0   absent/present/unknown Durrenberger notes the...   \n",
       "1  467     1066.0   1115.0                                                      \n",
       "2  155     1101.0   1262.0   absent/present/unknown Durrenberger notes the...   \n",
       "3  466     1116.0   1153.0                                                      \n",
       "4  236     1200.0   1299.0   \"Astronomical almanacs inferred for Classic p...   \n",
       "\n",
       "   note  finalized                 created_date                modified_date  \\\n",
       "0  None       True                         None                         None   \n",
       "1  None      False  2024-11-24T18:12:19.616490Z  2024-11-24T18:14:04.438817Z   \n",
       "2  None       True                         None                         None   \n",
       "3  None      False  2024-11-24T17:57:20.281912Z  2024-11-24T18:05:21.430097Z   \n",
       "4  None       True                         None                         None   \n",
       "\n",
       "   tag  is_disputed  is_uncertain  expert_reviewed drb_reviewed  \\\n",
       "0  TRS        False         False             True         None   \n",
       "1  SSP        False         False            False        False   \n",
       "2  TRS        False         False             True         None   \n",
       "3  TRS        False         False            False        False   \n",
       "4  SSP        False         False             True         None   \n",
       "\n",
       "                    name scientific_literature  \\\n",
       "0  scientific_literature                absent   \n",
       "1  Scientific_literature                absent   \n",
       "2  scientific_literature               present   \n",
       "3  Scientific_literature               present   \n",
       "4  scientific_literature               unknown   \n",
       "\n",
       "                                              polity  \\\n",
       "0  {'id': 115, 'name': 'IsCommw', 'start_year': 9...   \n",
       "1  {'id': 586, 'name': 'gb_england_norman', 'star...   \n",
       "2  {'id': 115, 'name': 'IsCommw', 'start_year': 9...   \n",
       "3  {'id': 586, 'name': 'gb_england_norman', 'star...   \n",
       "4  {'id': 15, 'name': 'MxPostM', 'start_year': 12...   \n",
       "\n",
       "                                      comment  \\\n",
       "0                                        None   \n",
       "1  {'id': 1029, 'text': 'a new_comment_text'}   \n",
       "2                                        None   \n",
       "3  {'id': 1028, 'text': 'a new_comment_text'}   \n",
       "4                                        None   \n",
       "\n",
       "                            private_comment citations curator  \n",
       "0  {'id': 1, 'text': 'NO_PRIVATE_COMMENTS'}        []      []  \n",
       "1                                      None        []      []  \n",
       "2  {'id': 1, 'text': 'NO_PRIVATE_COMMENTS'}        []      []  \n",
       "3                                      None        []      []  \n",
       "4  {'id': 1, 'text': 'NO_PRIVATE_COMMENTS'}        []      []  "
      ]
     },
     "execution_count": 5,
     "metadata": {},
     "output_type": "execute_result"
    }
   ],
   "source": [
    "# scientific_literatures_df[scientific_literatures_df['new_name'] == 'tr_ottoman_emp_1']\n",
    "scientific_literatures_df.head()"
   ]
  },
  {
   "cell_type": "code",
   "execution_count": 6,
   "metadata": {},
   "outputs": [
    {
     "data": {
      "text/html": [
       "<div>\n",
       "<style scoped>\n",
       "    .dataframe tbody tr th:only-of-type {\n",
       "        vertical-align: middle;\n",
       "    }\n",
       "\n",
       "    .dataframe tbody tr th {\n",
       "        vertical-align: top;\n",
       "    }\n",
       "\n",
       "    .dataframe thead th {\n",
       "        text-align: right;\n",
       "    }\n",
       "</style>\n",
       "<table border=\"1\" class=\"dataframe\">\n",
       "  <thead>\n",
       "    <tr style=\"text-align: right;\">\n",
       "      <th></th>\n",
       "      <th>id</th>\n",
       "      <th>name</th>\n",
       "      <th>start_year</th>\n",
       "      <th>end_year</th>\n",
       "      <th>long_name</th>\n",
       "      <th>new_name</th>\n",
       "      <th>polity_tag</th>\n",
       "      <th>general_description</th>\n",
       "      <th>shapefile_name</th>\n",
       "      <th>private_comment</th>\n",
       "      <th>created_date</th>\n",
       "      <th>modified_date</th>\n",
       "      <th>home_nga</th>\n",
       "      <th>home_seshat_region</th>\n",
       "      <th>private_comment_n</th>\n",
       "      <th>scientific_literature</th>\n",
       "    </tr>\n",
       "  </thead>\n",
       "  <tbody>\n",
       "    <tr>\n",
       "      <th>351</th>\n",
       "      <td>174</td>\n",
       "      <td>TrOttm2</td>\n",
       "      <td>1402</td>\n",
       "      <td>1517</td>\n",
       "      <td>Ottoman Empire I</td>\n",
       "      <td>tr_ottoman_emp_1</td>\n",
       "      <td>LEGACY</td>\n",
       "      <td>During the fifteenth century the Ottomans reco...</td>\n",
       "      <td>None</td>\n",
       "      <td>None</td>\n",
       "      <td>None</td>\n",
       "      <td>None</td>\n",
       "      <td>{'id': 11, 'name': 'Konya Plain', 'subregion':...</td>\n",
       "      <td>{'id': 43, 'name': 'Anatolia-Caucasus', 'subre...</td>\n",
       "      <td>{'id': 1, 'text': 'NO_PRIVATE_COMMENTS'}</td>\n",
       "      <td>present</td>\n",
       "    </tr>\n",
       "  </tbody>\n",
       "</table>\n",
       "</div>"
      ],
      "text/plain": [
       "      id     name  start_year  end_year         long_name          new_name  \\\n",
       "351  174  TrOttm2        1402      1517  Ottoman Empire I  tr_ottoman_emp_1   \n",
       "\n",
       "    polity_tag                                general_description  \\\n",
       "351     LEGACY  During the fifteenth century the Ottomans reco...   \n",
       "\n",
       "    shapefile_name private_comment created_date modified_date  \\\n",
       "351           None            None         None          None   \n",
       "\n",
       "                                              home_nga  \\\n",
       "351  {'id': 11, 'name': 'Konya Plain', 'subregion':...   \n",
       "\n",
       "                                    home_seshat_region  \\\n",
       "351  {'id': 43, 'name': 'Anatolia-Caucasus', 'subre...   \n",
       "\n",
       "                            private_comment_n scientific_literature  \n",
       "351  {'id': 1, 'text': 'NO_PRIVATE_COMMENTS'}               present  "
      ]
     },
     "execution_count": 6,
     "metadata": {},
     "output_type": "execute_result"
    }
   ],
   "source": [
    "test = pd.DataFrame(scientific_literatures_df['polity'].tolist())\n",
    "test['scientific_literature'] = scientific_literatures_df['scientific_literature']\n",
    "test[test['new_name'] == 'tr_ottoman_emp_1']"
   ]
  },
  {
   "cell_type": "markdown",
   "metadata": {},
   "source": [
    "Let's just use expert reviewed data and ignore examples where the value is anything other than \"present\" or \"absent\" to create a subsample of the dataset.\n",
    "\n",
    "We should also reformat the dataframe so we have information about the polities such as the start and end year alongside the variable value, then remove columns we aren't interested in."
   ]
  },
  {
   "cell_type": "code",
   "execution_count": 7,
   "metadata": {},
   "outputs": [],
   "source": [
    "def process_df(seshat_df, variable_id):\n",
    "\n",
    "    # Extract the polities column to a new dataframe\n",
    "    polities_df = pd.DataFrame(seshat_df['polity'].tolist())\n",
    "\n",
    "    # Add columns to the new dataframe\n",
    "    polities_df[variable_id] = seshat_df[variable_id]\n",
    "    polities_df['expert_reviewed'] = seshat_df['expert_reviewed']\n",
    "\n",
    "    # Filter out the records that are not expert reviewed\n",
    "    polities_df = polities_df[polities_df['expert_reviewed'] == True]\n",
    "\n",
    "    # Filter out records where the variable is not either 'present' or 'absent'\n",
    "    polities_df = polities_df[polities_df[variable_id].isin(['present', 'absent'])]\n",
    "\n",
    "    # Filter out records where the variable is NaN\n",
    "    polities_df = polities_df[polities_df[variable_id].notna()]\n",
    "    print(\"There are\", len(polities_df), variable_id, \"records after filtering.\")\n",
    "\n",
    "    # Get rid of the columns we don't need\n",
    "    polities_df = polities_df[['new_name', 'long_name', 'start_year', 'end_year', variable_id, 'general_description']]\n",
    "\n",
    "    return polities_df"
   ]
  },
  {
   "cell_type": "code",
   "execution_count": 8,
   "metadata": {},
   "outputs": [
    {
     "name": "stdout",
     "output_type": "stream",
     "text": [
      "There are 255 scientific_literature records after filtering.\n"
     ]
    }
   ],
   "source": [
    "polities_with_scientific_literatures_df = process_df(scientific_literatures_df, 'scientific_literature')"
   ]
  },
  {
   "cell_type": "code",
   "execution_count": 9,
   "metadata": {},
   "outputs": [
    {
     "data": {
      "text/html": [
       "<div>\n",
       "<style scoped>\n",
       "    .dataframe tbody tr th:only-of-type {\n",
       "        vertical-align: middle;\n",
       "    }\n",
       "\n",
       "    .dataframe tbody tr th {\n",
       "        vertical-align: top;\n",
       "    }\n",
       "\n",
       "    .dataframe thead th {\n",
       "        text-align: right;\n",
       "    }\n",
       "</style>\n",
       "<table border=\"1\" class=\"dataframe\">\n",
       "  <thead>\n",
       "    <tr style=\"text-align: right;\">\n",
       "      <th></th>\n",
       "      <th>new_name</th>\n",
       "      <th>long_name</th>\n",
       "      <th>start_year</th>\n",
       "      <th>end_year</th>\n",
       "      <th>scientific_literature</th>\n",
       "      <th>general_description</th>\n",
       "    </tr>\n",
       "  </thead>\n",
       "  <tbody>\n",
       "    <tr>\n",
       "      <th>351</th>\n",
       "      <td>tr_ottoman_emp_1</td>\n",
       "      <td>Ottoman Empire I</td>\n",
       "      <td>1402</td>\n",
       "      <td>1517</td>\n",
       "      <td>present</td>\n",
       "      <td>During the fifteenth century the Ottomans reco...</td>\n",
       "    </tr>\n",
       "  </tbody>\n",
       "</table>\n",
       "</div>"
      ],
      "text/plain": [
       "             new_name         long_name  start_year  end_year  \\\n",
       "351  tr_ottoman_emp_1  Ottoman Empire I        1402      1517   \n",
       "\n",
       "    scientific_literature                                general_description  \n",
       "351               present  During the fifteenth century the Ottomans reco...  "
      ]
     },
     "execution_count": 9,
     "metadata": {},
     "output_type": "execute_result"
    }
   ],
   "source": [
    "# Sense check\n",
    "polities_with_scientific_literatures_df[polities_with_scientific_literatures_df['new_name'] == 'tr_ottoman_emp_1']"
   ]
  },
  {
   "cell_type": "code",
   "execution_count": 10,
   "metadata": {},
   "outputs": [
    {
     "data": {
      "text/html": [
       "<div>\n",
       "<style scoped>\n",
       "    .dataframe tbody tr th:only-of-type {\n",
       "        vertical-align: middle;\n",
       "    }\n",
       "\n",
       "    .dataframe tbody tr th {\n",
       "        vertical-align: top;\n",
       "    }\n",
       "\n",
       "    .dataframe thead th {\n",
       "        text-align: right;\n",
       "    }\n",
       "</style>\n",
       "<table border=\"1\" class=\"dataframe\">\n",
       "  <thead>\n",
       "    <tr style=\"text-align: right;\">\n",
       "      <th></th>\n",
       "      <th>new_name</th>\n",
       "      <th>long_name</th>\n",
       "      <th>start_year</th>\n",
       "      <th>end_year</th>\n",
       "      <th>scientific_literature</th>\n",
       "      <th>general_description</th>\n",
       "    </tr>\n",
       "  </thead>\n",
       "  <tbody>\n",
       "    <tr>\n",
       "      <th>361</th>\n",
       "      <td>ye_qatabanian_commonwealth</td>\n",
       "      <td>Qatabanian Commonwealth</td>\n",
       "      <td>-450</td>\n",
       "      <td>-111</td>\n",
       "      <td>absent</td>\n",
       "      <td>The Yemeni Coastal Plain or Plateau is the nor...</td>\n",
       "    </tr>\n",
       "    <tr>\n",
       "      <th>321</th>\n",
       "      <td>mx_monte_alban_1_early</td>\n",
       "      <td>Early Monte Alban I</td>\n",
       "      <td>-500</td>\n",
       "      <td>-300</td>\n",
       "      <td>absent</td>\n",
       "      <td>The Monte Albán Early I phase runs from 500 to...</td>\n",
       "    </tr>\n",
       "    <tr>\n",
       "      <th>335</th>\n",
       "      <td>pe_cuzco_6</td>\n",
       "      <td>Cuzco - Late Intermediate II</td>\n",
       "      <td>1250</td>\n",
       "      <td>1400</td>\n",
       "      <td>absent</td>\n",
       "      <td>After the collapse of the Wari empire, the Cuz...</td>\n",
       "    </tr>\n",
       "    <tr>\n",
       "      <th>223</th>\n",
       "      <td>uz_sogdiana_city_states</td>\n",
       "      <td>Sogdiana - City-States Period</td>\n",
       "      <td>604</td>\n",
       "      <td>711</td>\n",
       "      <td>present</td>\n",
       "      <td>General description:&lt;br&gt;The Sogdian City State...</td>\n",
       "    </tr>\n",
       "    <tr>\n",
       "      <th>250</th>\n",
       "      <td>in_achik_2</td>\n",
       "      <td>Late A'chik</td>\n",
       "      <td>1867</td>\n",
       "      <td>1956</td>\n",
       "      <td>absent</td>\n",
       "      <td>The Garo Hills, located in Meghalaya in northe...</td>\n",
       "    </tr>\n",
       "  </tbody>\n",
       "</table>\n",
       "</div>"
      ],
      "text/plain": [
       "                       new_name                      long_name  start_year  \\\n",
       "361  ye_qatabanian_commonwealth        Qatabanian Commonwealth        -450   \n",
       "321      mx_monte_alban_1_early            Early Monte Alban I        -500   \n",
       "335                  pe_cuzco_6   Cuzco - Late Intermediate II        1250   \n",
       "223     uz_sogdiana_city_states  Sogdiana - City-States Period         604   \n",
       "250                  in_achik_2                    Late A'chik        1867   \n",
       "\n",
       "     end_year scientific_literature  \\\n",
       "361      -111                absent   \n",
       "321      -300                absent   \n",
       "335      1400                absent   \n",
       "223       711               present   \n",
       "250      1956                absent   \n",
       "\n",
       "                                   general_description  \n",
       "361  The Yemeni Coastal Plain or Plateau is the nor...  \n",
       "321  The Monte Albán Early I phase runs from 500 to...  \n",
       "335  After the collapse of the Wari empire, the Cuz...  \n",
       "223  General description:<br>The Sogdian City State...  \n",
       "250  The Garo Hills, located in Meghalaya in northe...  "
      ]
     },
     "execution_count": 10,
     "metadata": {},
     "output_type": "execute_result"
    }
   ],
   "source": [
    "polities_with_scientific_literatures_df.sample(5)"
   ]
  },
  {
   "cell_type": "markdown",
   "metadata": {},
   "source": [
    "## \"Prompt engineering\"\n",
    "\n",
    "First let's define a prompt function to use with our dataframe:"
   ]
  },
  {
   "cell_type": "code",
   "execution_count": 11,
   "metadata": {},
   "outputs": [],
   "source": [
    "def year_CE(year):\n",
    "    if year >= 0:\n",
    "        return f\"{year} CE\"\n",
    "    else:\n",
    "        return f\"{abs(year)} BCE\"\n",
    "\n",
    "def prompt_func(seshat_df, polity_name, variable, variable_definition):\n",
    "    df = seshat_df[seshat_df['new_name'] == polity_name]\n",
    "    polity = list(df['long_name'])[0]\n",
    "    # description = list(df['general_description'])[0]  # TODO: we could add this to the prompt to add more context\n",
    "    start_year = list(df['start_year'])[0]\n",
    "    end_year = list(df['end_year'])[0]\n",
    "    prompt = \"Use your knowledge of world history to answer the following question. \"\n",
    "    prompt += f\"Given your knowledge of the historical polity '{polity}', \"\n",
    "    prompt += f\"a polity that existed between {year_CE(start_year)} and {year_CE(end_year)}\"\n",
    "    prompt += f\", do you expect that {variable} was present or absent? \"\n",
    "    prompt += f\"{variable} is defined as: '{variable_definition}'. \"\n",
    "    \n",
    "    # To help extract the answer from the text response later, make sure we have a string that can be found with a regex:\n",
    "    prompt += \"Answer 'XXXpresentXXX' if you expect it to be present, and 'XXXabsentXXX' if you expect it to be absent.\"\n",
    "    return prompt\n",
    "    "
   ]
  },
  {
   "cell_type": "markdown",
   "metadata": {},
   "source": [
    "How does the prompt look with an example \"new_name\" (Seshat ID) of `tn_fatimid_cal`, which we know has a record for scientific literature in the database:"
   ]
  },
  {
   "cell_type": "code",
   "execution_count": 12,
   "metadata": {},
   "outputs": [
    {
     "data": {
      "text/plain": [
       "\"Use your knowledge of world history to answer the following question. Given your knowledge of the historical polity 'Fatimid Caliphate', a polity that existed between 909 CE and 1171 CE, do you expect that Scientific Literature was present or absent? Scientific Literature is defined as: 'Talking about Kinds of Written Documents, Scientific literature includes mathematics, natural sciences, social sciences'. Answer 'XXXpresentXXX' if you expect it to be present, and 'XXXabsentXXX' if you expect it to be absent.\""
      ]
     },
     "execution_count": 12,
     "metadata": {},
     "output_type": "execute_result"
    }
   ],
   "source": [
    "test_seshat_polity_name = 'tn_fatimid_cal'\n",
    "test_prompt = prompt_func(polities_with_scientific_literatures_df, test_seshat_polity_name, variable, definition)\n",
    "test_prompt"
   ]
  },
  {
   "cell_type": "markdown",
   "metadata": {},
   "source": [
    "Ok, let's see what DeepSeek responds for this prompt:"
   ]
  },
  {
   "cell_type": "code",
   "execution_count": 13,
   "metadata": {},
   "outputs": [
    {
     "name": "stdout",
     "output_type": "stream",
     "text": [
      "<think>\n",
      "Alright, so I need to figure out whether scientific literature existed during the Fatimid Caliphate period between 909 CE and 1171 CE. The question defines scientific literature as including math, natural sciences, and social sciences.\n",
      "\n",
      "First, I remember that the Fatimid Caliphate was a significant cultural and scientific hub in the Islamic Golden Age. It was based in Cairo, which is known for its libraries like the Dar al-Hikma (House of Wisdom). I think scholars there contributed to various fields including medicine, astronomy, and mathematics.\n",
      "\n",
      "I recall that during this period, there were major advancements. For example, Al-Fazari is mentioned as a significant translator of Indian numerals into Arabic, which would have been part of mathematical literature. There was also work on optics by Al-Kindi and others, so natural sciences were definitely active.\n",
      "\n",
      "In social sciences, there might have been studies on inheritance laws or societal structures since the Fatimids had a complex system under their caliphate. So that's another aspect where scientific literature would be present.\n",
      "\n",
      "Additionally, the translation movement was crucial. Greek texts were translated into Arabic, which included works in philosophy, science, and other disciplines. This would support the presence of scientific literature as well.\n",
      "\n",
      "So putting it all together, the Fatimid Caliphate had active scientific endeavors across multiple disciplines. Therefore, I expect that scientific literature was present during this period.\n",
      "</think>\n",
      "\n",
      "XXXpresentXXX\n"
     ]
    }
   ],
   "source": [
    "response: ChatResponse = chat(model='deepseek-r1', messages=[\n",
    "  {\n",
    "    'role': 'user',\n",
    "    'content': test_prompt,\n",
    "  },\n",
    "])\n",
    "print(response.message.content)"
   ]
  },
  {
   "cell_type": "markdown",
   "metadata": {},
   "source": [
    "Was that correct? Let's check the dataframe to see:"
   ]
  },
  {
   "cell_type": "code",
   "execution_count": 14,
   "metadata": {},
   "outputs": [
    {
     "data": {
      "text/html": [
       "<div>\n",
       "<style scoped>\n",
       "    .dataframe tbody tr th:only-of-type {\n",
       "        vertical-align: middle;\n",
       "    }\n",
       "\n",
       "    .dataframe tbody tr th {\n",
       "        vertical-align: top;\n",
       "    }\n",
       "\n",
       "    .dataframe thead th {\n",
       "        text-align: right;\n",
       "    }\n",
       "</style>\n",
       "<table border=\"1\" class=\"dataframe\">\n",
       "  <thead>\n",
       "    <tr style=\"text-align: right;\">\n",
       "      <th></th>\n",
       "      <th>new_name</th>\n",
       "      <th>long_name</th>\n",
       "      <th>start_year</th>\n",
       "      <th>end_year</th>\n",
       "      <th>scientific_literature</th>\n",
       "      <th>general_description</th>\n",
       "    </tr>\n",
       "  </thead>\n",
       "  <tbody>\n",
       "    <tr>\n",
       "      <th>346</th>\n",
       "      <td>tn_fatimid_cal</td>\n",
       "      <td>Fatimid Caliphate</td>\n",
       "      <td>909</td>\n",
       "      <td>1171</td>\n",
       "      <td>present</td>\n",
       "      <td>The Fatimid Caliphate lasted from 909 to 1171 ...</td>\n",
       "    </tr>\n",
       "  </tbody>\n",
       "</table>\n",
       "</div>"
      ],
      "text/plain": [
       "           new_name          long_name  start_year  end_year  \\\n",
       "346  tn_fatimid_cal  Fatimid Caliphate         909      1171   \n",
       "\n",
       "    scientific_literature                                general_description  \n",
       "346               present  The Fatimid Caliphate lasted from 909 to 1171 ...  "
      ]
     },
     "execution_count": 14,
     "metadata": {},
     "output_type": "execute_result"
    }
   ],
   "source": [
    "polities_with_scientific_literatures_df[polities_with_scientific_literatures_df['new_name'] == test_seshat_polity_name]"
   ]
  },
  {
   "cell_type": "markdown",
   "metadata": {},
   "source": [
    "### Get DeepSeek's answer data\n",
    "\n",
    "Let's write a function to collect responses from DeepSeek for all the polities in our dataset and make a new dataframe with the results:"
   ]
  },
  {
   "cell_type": "code",
   "execution_count": 15,
   "metadata": {},
   "outputs": [],
   "source": [
    "def deepseek_responses(seshat_df, variable, definition, count=None):  # Use the count parameter to limit the number of responses\n",
    "    def generate_response(polity):\n",
    "        response: ChatResponse = chat(model='deepseek-r1', messages=[\n",
    "            {\n",
    "                'role': 'user',\n",
    "                'content': prompt_func(seshat_df, polity, variable, definition),\n",
    "            },\n",
    "        ])\n",
    "        return response\n",
    "\n",
    "    responses = pd.DataFrame(columns=['new_name', 'answer', 'full'])\n",
    "    for polity in seshat_df['new_name']:\n",
    "        if count is not None and len(responses) >= count:\n",
    "            break\n",
    "        response = generate_response(polity)\n",
    "        while 'XXXabsentXXX' not in response.message.content and 'XXXpresentXXX' not in response.message.content:\n",
    "            response = generate_response(polity)  # Keep asking until we get a valid response\n",
    "        answer = re.search(r'(XXXabsentXXX|XXXpresentXXX)', response.message.content).group(1)\n",
    "        answer = answer.replace(\"XXX\", \"\")\n",
    "\n",
    "        # Add the new row to the DataFrame using pd.concat\n",
    "        responses = pd.concat([responses, pd.DataFrame([{\n",
    "            'new_name': polity,\n",
    "            'answer': answer,\n",
    "            'full': response.message.content\n",
    "        }])], ignore_index=True)\n",
    "\n",
    "    return responses"
   ]
  },
  {
   "cell_type": "markdown",
   "metadata": {},
   "source": [
    "Now let's generate the answer data for this variable across polities in our dataset:"
   ]
  },
  {
   "cell_type": "code",
   "execution_count": 16,
   "metadata": {},
   "outputs": [],
   "source": [
    "# Get the responses for the scientific literature variable - uncomment to run (you can set count to limit the number of responses)\n",
    "scientific_literature_responses = deepseek_responses(polities_with_scientific_literatures_df, variable, definition)"
   ]
  },
  {
   "cell_type": "code",
   "execution_count": 17,
   "metadata": {},
   "outputs": [],
   "source": [
    "# Save the responses to a CSV file - uncomment to run\n",
    "scientific_literature_responses.to_csv('scientific_literature_responses.csv', index=False)\n",
    "\n",
    "# Load the responses from the CSV file\n",
    "# scientific_literature_responses = pd.read_csv('scientific_literature_responses.csv')"
   ]
  },
  {
   "cell_type": "code",
   "execution_count": 18,
   "metadata": {},
   "outputs": [
    {
     "data": {
      "text/html": [
       "<div>\n",
       "<style scoped>\n",
       "    .dataframe tbody tr th:only-of-type {\n",
       "        vertical-align: middle;\n",
       "    }\n",
       "\n",
       "    .dataframe tbody tr th {\n",
       "        vertical-align: top;\n",
       "    }\n",
       "\n",
       "    .dataframe thead th {\n",
       "        text-align: right;\n",
       "    }\n",
       "</style>\n",
       "<table border=\"1\" class=\"dataframe\">\n",
       "  <thead>\n",
       "    <tr style=\"text-align: right;\">\n",
       "      <th></th>\n",
       "      <th>new_name</th>\n",
       "      <th>answer</th>\n",
       "      <th>full</th>\n",
       "    </tr>\n",
       "  </thead>\n",
       "  <tbody>\n",
       "    <tr>\n",
       "      <th>170</th>\n",
       "      <td>ir_il_khanate</td>\n",
       "      <td>present</td>\n",
       "      <td>&lt;think&gt;\\nOkay, so I need to figure out whether...</td>\n",
       "    </tr>\n",
       "    <tr>\n",
       "      <th>216</th>\n",
       "      <td>mx_monte_alban_1_late</td>\n",
       "      <td>absent</td>\n",
       "      <td>&lt;think&gt;\\nOkay, so I need to figure out whether...</td>\n",
       "    </tr>\n",
       "    <tr>\n",
       "      <th>101</th>\n",
       "      <td>af_kushan_emp</td>\n",
       "      <td>absent</td>\n",
       "      <td>&lt;think&gt;\\nOkay, so I need to figure out whether...</td>\n",
       "    </tr>\n",
       "    <tr>\n",
       "      <th>56</th>\n",
       "      <td>it_roman_rep_1</td>\n",
       "      <td>present</td>\n",
       "      <td>&lt;think&gt;\\nOkay, so I have this question about w...</td>\n",
       "    </tr>\n",
       "    <tr>\n",
       "      <th>24</th>\n",
       "      <td>cn_northern_wei_dyn</td>\n",
       "      <td>absent</td>\n",
       "      <td>&lt;think&gt;\\nOkay, so I have this question about t...</td>\n",
       "    </tr>\n",
       "  </tbody>\n",
       "</table>\n",
       "</div>"
      ],
      "text/plain": [
       "                  new_name   answer  \\\n",
       "170          ir_il_khanate  present   \n",
       "216  mx_monte_alban_1_late   absent   \n",
       "101          af_kushan_emp   absent   \n",
       "56          it_roman_rep_1  present   \n",
       "24     cn_northern_wei_dyn   absent   \n",
       "\n",
       "                                                  full  \n",
       "170  <think>\\nOkay, so I need to figure out whether...  \n",
       "216  <think>\\nOkay, so I need to figure out whether...  \n",
       "101  <think>\\nOkay, so I need to figure out whether...  \n",
       "56   <think>\\nOkay, so I have this question about w...  \n",
       "24   <think>\\nOkay, so I have this question about t...  "
      ]
     },
     "execution_count": 18,
     "metadata": {},
     "output_type": "execute_result"
    }
   ],
   "source": [
    "scientific_literature_responses.sample(5)"
   ]
  },
  {
   "cell_type": "markdown",
   "metadata": {},
   "source": [
    "### How well did the model perform?\n",
    "\n",
    "Let's do a simple check to see what percentage of the answers were correct, according to the Seshat ground truth:"
   ]
  },
  {
   "cell_type": "code",
   "execution_count": 19,
   "metadata": {},
   "outputs": [],
   "source": [
    "def performance(polities_df, responses_df, variable_id):\n",
    "    total = 0\n",
    "    correct = 0\n",
    "    for _, response in responses_df.iterrows():\n",
    "        polity = response['new_name']\n",
    "        seshat_answer = polities_df[polities_df['new_name'] == polity][variable_id].values[0]\n",
    "        if seshat_answer == response['answer']:\n",
    "            correct += 1\n",
    "        # print(polity, \": \", seshat_answer, response['answer'])\n",
    "        total += 1\n",
    "    percentage = correct / total * 100\n",
    "    print(f\"Correct: {correct}, Total: {total}, Percentage: {percentage:.2f}%\")\n",
    "    return percentage"
   ]
  },
  {
   "cell_type": "code",
   "execution_count": 20,
   "metadata": {},
   "outputs": [
    {
     "name": "stdout",
     "output_type": "stream",
     "text": [
      "Correct: 180, Total: 255, Percentage: 70.59%\n"
     ]
    },
    {
     "data": {
      "text/plain": [
       "70.58823529411765"
      ]
     },
     "execution_count": 20,
     "metadata": {},
     "output_type": "execute_result"
    }
   ],
   "source": [
    "performance(polities_with_scientific_literatures_df, scientific_literature_responses, 'scientific_literature')"
   ]
  },
  {
   "cell_type": "markdown",
   "metadata": {},
   "source": [
    "## Let's try that again\n",
    "\n",
    "Now let's run the pipeline again with a different variable:"
   ]
  },
  {
   "cell_type": "code",
   "execution_count": 21,
   "metadata": {},
   "outputs": [
    {
     "name": "stdout",
     "output_type": "stream",
     "text": [
      "There are 201 drinking_water_supply_system records after filtering.\n"
     ]
    },
    {
     "data": {
      "text/html": [
       "<div>\n",
       "<style scoped>\n",
       "    .dataframe tbody tr th:only-of-type {\n",
       "        vertical-align: middle;\n",
       "    }\n",
       "\n",
       "    .dataframe tbody tr th {\n",
       "        vertical-align: top;\n",
       "    }\n",
       "\n",
       "    .dataframe thead th {\n",
       "        text-align: right;\n",
       "    }\n",
       "</style>\n",
       "<table border=\"1\" class=\"dataframe\">\n",
       "  <thead>\n",
       "    <tr style=\"text-align: right;\">\n",
       "      <th></th>\n",
       "      <th>new_name</th>\n",
       "      <th>long_name</th>\n",
       "      <th>start_year</th>\n",
       "      <th>end_year</th>\n",
       "      <th>drinking_water_supply_system</th>\n",
       "      <th>general_description</th>\n",
       "    </tr>\n",
       "  </thead>\n",
       "  <tbody>\n",
       "    <tr>\n",
       "      <th>236</th>\n",
       "      <td>iq_ubaid</td>\n",
       "      <td>Ubaid</td>\n",
       "      <td>-5500</td>\n",
       "      <td>-4201</td>\n",
       "      <td>present</td>\n",
       "      <td>The name of 'Ubaid polity' derives from the ar...</td>\n",
       "    </tr>\n",
       "    <tr>\n",
       "      <th>208</th>\n",
       "      <td>fr_capetian_k_2</td>\n",
       "      <td>French Kingdom - Late Capetian</td>\n",
       "      <td>1150</td>\n",
       "      <td>1328</td>\n",
       "      <td>present</td>\n",
       "      <td>In the history of France the Late Capetian per...</td>\n",
       "    </tr>\n",
       "    <tr>\n",
       "      <th>269</th>\n",
       "      <td>mx_basin_of_mexico_3</td>\n",
       "      <td>Early Formative Basin of Mexico</td>\n",
       "      <td>-1200</td>\n",
       "      <td>-801</td>\n",
       "      <td>absent</td>\n",
       "      <td>The Basin or Valley of Mexico is a highlands p...</td>\n",
       "    </tr>\n",
       "    <tr>\n",
       "      <th>184</th>\n",
       "      <td>ec_shuar_1</td>\n",
       "      <td>Shuar - Colonial</td>\n",
       "      <td>1534</td>\n",
       "      <td>1830</td>\n",
       "      <td>absent</td>\n",
       "      <td>The forested foothills of the Andes, near the ...</td>\n",
       "    </tr>\n",
       "    <tr>\n",
       "      <th>228</th>\n",
       "      <td>in_achik_2</td>\n",
       "      <td>Late A'chik</td>\n",
       "      <td>1867</td>\n",
       "      <td>1956</td>\n",
       "      <td>absent</td>\n",
       "      <td>The Garo Hills, located in Meghalaya in northe...</td>\n",
       "    </tr>\n",
       "  </tbody>\n",
       "</table>\n",
       "</div>"
      ],
      "text/plain": [
       "                 new_name                        long_name  start_year  \\\n",
       "236              iq_ubaid                            Ubaid       -5500   \n",
       "208       fr_capetian_k_2   French Kingdom - Late Capetian        1150   \n",
       "269  mx_basin_of_mexico_3  Early Formative Basin of Mexico       -1200   \n",
       "184            ec_shuar_1                 Shuar - Colonial        1534   \n",
       "228            in_achik_2                      Late A'chik        1867   \n",
       "\n",
       "     end_year drinking_water_supply_system  \\\n",
       "236     -4201                      present   \n",
       "208      1328                      present   \n",
       "269      -801                       absent   \n",
       "184      1830                       absent   \n",
       "228      1956                       absent   \n",
       "\n",
       "                                   general_description  \n",
       "236  The name of 'Ubaid polity' derives from the ar...  \n",
       "208  In the history of France the Late Capetian per...  \n",
       "269  The Basin or Valley of Mexico is a highlands p...  \n",
       "184  The forested foothills of the Andes, near the ...  \n",
       "228  The Garo Hills, located in Meghalaya in northe...  "
      ]
     },
     "execution_count": 21,
     "metadata": {},
     "output_type": "execute_result"
    }
   ],
   "source": [
    "from seshat_api.sc import DrinkingWaterSupplies\n",
    "drinking_water_supplies = DrinkingWaterSupplies(client)\n",
    "drinking_water_supplies_df = pd.DataFrame(drinking_water_supplies.get_all())\n",
    "polities_with_drinking_water_supplies_df = process_df(drinking_water_supplies_df, 'drinking_water_supply_system')\n",
    "polities_with_drinking_water_supplies_df.sample(5)"
   ]
  },
  {
   "cell_type": "code",
   "execution_count": 22,
   "metadata": {},
   "outputs": [],
   "source": [
    "# Get the responses for the Drinking Water Supply System variable\n",
    "polities_with_drinking_water_supplies_responses = deepseek_responses(polities_with_drinking_water_supplies_df,\n",
    "                                                     'Drinking Water Supply System',\n",
    "                                                     \"Talking about Specialized Buildings, drinking water supply systems are polity owned (which includes owned by the community, or the state), we have coded the absence or presence of the variable\",\n",
    "                                                     )"
   ]
  },
  {
   "cell_type": "code",
   "execution_count": 23,
   "metadata": {},
   "outputs": [],
   "source": [
    "# Save the responses to a CSV file\n",
    "polities_with_drinking_water_supplies_responses.to_csv('polities_with_drinking_water_supplies_responses.csv', index=False)\n",
    "\n",
    "# Load the responses from the CSV file\n",
    "# polities_with_drinking_water_supplies_responses = pd.read_csv('polities_with_drinking_water_supplies_responses.csv')"
   ]
  },
  {
   "cell_type": "code",
   "execution_count": 24,
   "metadata": {},
   "outputs": [
    {
     "data": {
      "text/html": [
       "<div>\n",
       "<style scoped>\n",
       "    .dataframe tbody tr th:only-of-type {\n",
       "        vertical-align: middle;\n",
       "    }\n",
       "\n",
       "    .dataframe tbody tr th {\n",
       "        vertical-align: top;\n",
       "    }\n",
       "\n",
       "    .dataframe thead th {\n",
       "        text-align: right;\n",
       "    }\n",
       "</style>\n",
       "<table border=\"1\" class=\"dataframe\">\n",
       "  <thead>\n",
       "    <tr style=\"text-align: right;\">\n",
       "      <th></th>\n",
       "      <th>new_name</th>\n",
       "      <th>answer</th>\n",
       "      <th>full</th>\n",
       "    </tr>\n",
       "  </thead>\n",
       "  <tbody>\n",
       "    <tr>\n",
       "      <th>36</th>\n",
       "      <td>is_icelandic_commonwealth</td>\n",
       "      <td>present</td>\n",
       "      <td>&lt;think&gt;\\nOkay, so I need to figure out whether...</td>\n",
       "    </tr>\n",
       "    <tr>\n",
       "      <th>119</th>\n",
       "      <td>fr_capetian_k_2</td>\n",
       "      <td>present</td>\n",
       "      <td>&lt;think&gt;\\nOkay, so I need to figure out whether...</td>\n",
       "    </tr>\n",
       "    <tr>\n",
       "      <th>165</th>\n",
       "      <td>jp_tokugawa_shogunate</td>\n",
       "      <td>present</td>\n",
       "      <td>&lt;think&gt;\\nOkay, so I need to figure out whether...</td>\n",
       "    </tr>\n",
       "    <tr>\n",
       "      <th>70</th>\n",
       "      <td>us_woodland_2</td>\n",
       "      <td>absent</td>\n",
       "      <td>&lt;think&gt;\\nOkay, so I need to figure out whether...</td>\n",
       "    </tr>\n",
       "    <tr>\n",
       "      <th>67</th>\n",
       "      <td>us_woodland_1</td>\n",
       "      <td>present</td>\n",
       "      <td>&lt;think&gt;\\nOkay, so I need to figure out whether...</td>\n",
       "    </tr>\n",
       "  </tbody>\n",
       "</table>\n",
       "</div>"
      ],
      "text/plain": [
       "                      new_name   answer  \\\n",
       "36   is_icelandic_commonwealth  present   \n",
       "119            fr_capetian_k_2  present   \n",
       "165      jp_tokugawa_shogunate  present   \n",
       "70               us_woodland_2   absent   \n",
       "67               us_woodland_1  present   \n",
       "\n",
       "                                                  full  \n",
       "36   <think>\\nOkay, so I need to figure out whether...  \n",
       "119  <think>\\nOkay, so I need to figure out whether...  \n",
       "165  <think>\\nOkay, so I need to figure out whether...  \n",
       "70   <think>\\nOkay, so I need to figure out whether...  \n",
       "67   <think>\\nOkay, so I need to figure out whether...  "
      ]
     },
     "execution_count": 24,
     "metadata": {},
     "output_type": "execute_result"
    }
   ],
   "source": [
    "polities_with_drinking_water_supplies_responses.sample(5)"
   ]
  },
  {
   "cell_type": "code",
   "execution_count": 25,
   "metadata": {},
   "outputs": [
    {
     "name": "stdout",
     "output_type": "stream",
     "text": [
      "Correct: 127, Total: 201, Percentage: 63.18%\n"
     ]
    },
    {
     "data": {
      "text/plain": [
       "63.18407960199005"
      ]
     },
     "execution_count": 25,
     "metadata": {},
     "output_type": "execute_result"
    }
   ],
   "source": [
    "performance(polities_with_drinking_water_supplies_df, polities_with_drinking_water_supplies_responses, 'drinking_water_supply_system')"
   ]
  },
  {
   "cell_type": "markdown",
   "metadata": {},
   "source": [
    "## Another one!"
   ]
  },
  {
   "cell_type": "code",
   "execution_count": 26,
   "metadata": {},
   "outputs": [
    {
     "name": "stdout",
     "output_type": "stream",
     "text": [
      "There are 271 road records after filtering.\n"
     ]
    },
    {
     "data": {
      "text/html": [
       "<div>\n",
       "<style scoped>\n",
       "    .dataframe tbody tr th:only-of-type {\n",
       "        vertical-align: middle;\n",
       "    }\n",
       "\n",
       "    .dataframe tbody tr th {\n",
       "        vertical-align: top;\n",
       "    }\n",
       "\n",
       "    .dataframe thead th {\n",
       "        text-align: right;\n",
       "    }\n",
       "</style>\n",
       "<table border=\"1\" class=\"dataframe\">\n",
       "  <thead>\n",
       "    <tr style=\"text-align: right;\">\n",
       "      <th></th>\n",
       "      <th>new_name</th>\n",
       "      <th>long_name</th>\n",
       "      <th>start_year</th>\n",
       "      <th>end_year</th>\n",
       "      <th>road</th>\n",
       "      <th>general_description</th>\n",
       "    </tr>\n",
       "  </thead>\n",
       "  <tbody>\n",
       "    <tr>\n",
       "      <th>97</th>\n",
       "      <td>eg_old_k_1</td>\n",
       "      <td>Egypt - Classic Old Kingdom</td>\n",
       "      <td>-2650</td>\n",
       "      <td>-2350</td>\n",
       "      <td>present</td>\n",
       "      <td>The Old Kingdom period of Egypt covers the Thi...</td>\n",
       "    </tr>\n",
       "    <tr>\n",
       "      <th>176</th>\n",
       "      <td>us_woodland_2</td>\n",
       "      <td>Cahokia - Middle Woodland</td>\n",
       "      <td>-150</td>\n",
       "      <td>300</td>\n",
       "      <td>absent</td>\n",
       "      <td>2000 BCE&lt;div&gt;Period of population growth begin...</td>\n",
       "    </tr>\n",
       "    <tr>\n",
       "      <th>157</th>\n",
       "      <td>tr_konya_mnl</td>\n",
       "      <td>Konya Plain - Ceramic Neolithic</td>\n",
       "      <td>-7000</td>\n",
       "      <td>-6600</td>\n",
       "      <td>absent</td>\n",
       "      <td>None</td>\n",
       "    </tr>\n",
       "    <tr>\n",
       "      <th>262</th>\n",
       "      <td>mr_wagadu_2</td>\n",
       "      <td>Middle Wagadu Empire</td>\n",
       "      <td>700</td>\n",
       "      <td>1077</td>\n",
       "      <td>present</td>\n",
       "      <td>The Kingdom of Ghana was the first documented ...</td>\n",
       "    </tr>\n",
       "    <tr>\n",
       "      <th>336</th>\n",
       "      <td>tr_byzantine_emp_2</td>\n",
       "      <td>Byzantine Empire II</td>\n",
       "      <td>867</td>\n",
       "      <td>1072</td>\n",
       "      <td>present</td>\n",
       "      <td>The phase of the Byzantine Empire from 867-107...</td>\n",
       "    </tr>\n",
       "  </tbody>\n",
       "</table>\n",
       "</div>"
      ],
      "text/plain": [
       "               new_name                        long_name  start_year  \\\n",
       "97           eg_old_k_1      Egypt - Classic Old Kingdom       -2650   \n",
       "176       us_woodland_2        Cahokia - Middle Woodland        -150   \n",
       "157        tr_konya_mnl  Konya Plain - Ceramic Neolithic       -7000   \n",
       "262         mr_wagadu_2             Middle Wagadu Empire         700   \n",
       "336  tr_byzantine_emp_2              Byzantine Empire II         867   \n",
       "\n",
       "     end_year     road                                general_description  \n",
       "97      -2350  present  The Old Kingdom period of Egypt covers the Thi...  \n",
       "176       300   absent  2000 BCE<div>Period of population growth begin...  \n",
       "157     -6600   absent                                               None  \n",
       "262      1077  present  The Kingdom of Ghana was the first documented ...  \n",
       "336      1072  present  The phase of the Byzantine Empire from 867-107...  "
      ]
     },
     "execution_count": 26,
     "metadata": {},
     "output_type": "execute_result"
    }
   ],
   "source": [
    "from seshat_api.sc import Roads\n",
    "roads = Roads(client)\n",
    "roads_df = pd.DataFrame(roads.get_all())\n",
    "polities_with_roads_df = process_df(roads_df, 'road')\n",
    "polities_with_roads_df.sample(5)"
   ]
  },
  {
   "cell_type": "code",
   "execution_count": 27,
   "metadata": {},
   "outputs": [],
   "source": [
    "# Get the responses for the Roads variable\n",
    "polities_with_roads_responses = deepseek_responses(polities_with_roads_df,\n",
    "                                                     'Roads',\n",
    "                                                     \"Talking about Transport infrastructure, roads refers to deliberately constructed roads that connect settlements or other sites. It excludes streets/accessways within settlements and paths between settlements that develop through repeated use\"\n",
    "                                                     )"
   ]
  },
  {
   "cell_type": "code",
   "execution_count": 28,
   "metadata": {},
   "outputs": [],
   "source": [
    "# Save the responses to a CSV file\n",
    "polities_with_roads_responses.to_csv('polities_with_roads_responses.csv', index=False)\n",
    "\n",
    "# Load the responses from the CSV file\n",
    "# polities_with_roads_responses = pd.read_csv('polities_with_roads_responses.csv')"
   ]
  },
  {
   "cell_type": "code",
   "execution_count": 29,
   "metadata": {},
   "outputs": [
    {
     "data": {
      "text/html": [
       "<div>\n",
       "<style scoped>\n",
       "    .dataframe tbody tr th:only-of-type {\n",
       "        vertical-align: middle;\n",
       "    }\n",
       "\n",
       "    .dataframe tbody tr th {\n",
       "        vertical-align: top;\n",
       "    }\n",
       "\n",
       "    .dataframe thead th {\n",
       "        text-align: right;\n",
       "    }\n",
       "</style>\n",
       "<table border=\"1\" class=\"dataframe\">\n",
       "  <thead>\n",
       "    <tr style=\"text-align: right;\">\n",
       "      <th></th>\n",
       "      <th>new_name</th>\n",
       "      <th>answer</th>\n",
       "      <th>full</th>\n",
       "    </tr>\n",
       "  </thead>\n",
       "  <tbody>\n",
       "    <tr>\n",
       "      <th>203</th>\n",
       "      <td>jp_azuchi_momoyama</td>\n",
       "      <td>present</td>\n",
       "      <td>&lt;think&gt;\\nOkay, so I need to figure out whether...</td>\n",
       "    </tr>\n",
       "    <tr>\n",
       "      <th>98</th>\n",
       "      <td>id_kediri_k</td>\n",
       "      <td>absent</td>\n",
       "      <td>&lt;think&gt;\\nOkay, so I need to figure out whether...</td>\n",
       "    </tr>\n",
       "    <tr>\n",
       "      <th>65</th>\n",
       "      <td>is_icelandic_commonwealth</td>\n",
       "      <td>present</td>\n",
       "      <td>&lt;think&gt;\\nOkay, so I need to figure out whether...</td>\n",
       "    </tr>\n",
       "    <tr>\n",
       "      <th>29</th>\n",
       "      <td>cn_eastern_han_dyn</td>\n",
       "      <td>present</td>\n",
       "      <td>&lt;think&gt;\\nOkay, so I need to figure out whether...</td>\n",
       "    </tr>\n",
       "    <tr>\n",
       "      <th>14</th>\n",
       "      <td>cn_wei_k</td>\n",
       "      <td>absent</td>\n",
       "      <td>&lt;think&gt;\\nOkay, so I need to figure out whether...</td>\n",
       "    </tr>\n",
       "  </tbody>\n",
       "</table>\n",
       "</div>"
      ],
      "text/plain": [
       "                      new_name   answer  \\\n",
       "203         jp_azuchi_momoyama  present   \n",
       "98                 id_kediri_k   absent   \n",
       "65   is_icelandic_commonwealth  present   \n",
       "29          cn_eastern_han_dyn  present   \n",
       "14                    cn_wei_k   absent   \n",
       "\n",
       "                                                  full  \n",
       "203  <think>\\nOkay, so I need to figure out whether...  \n",
       "98   <think>\\nOkay, so I need to figure out whether...  \n",
       "65   <think>\\nOkay, so I need to figure out whether...  \n",
       "29   <think>\\nOkay, so I need to figure out whether...  \n",
       "14   <think>\\nOkay, so I need to figure out whether...  "
      ]
     },
     "execution_count": 29,
     "metadata": {},
     "output_type": "execute_result"
    }
   ],
   "source": [
    "polities_with_roads_responses.sample(5)"
   ]
  },
  {
   "cell_type": "code",
   "execution_count": 30,
   "metadata": {},
   "outputs": [
    {
     "name": "stdout",
     "output_type": "stream",
     "text": [
      "Correct: 194, Total: 271, Percentage: 71.59%\n"
     ]
    },
    {
     "data": {
      "text/plain": [
       "71.58671586715867"
      ]
     },
     "execution_count": 30,
     "metadata": {},
     "output_type": "execute_result"
    }
   ],
   "source": [
    "performance(polities_with_roads_df, polities_with_roads_responses, 'road')"
   ]
  },
  {
   "cell_type": "markdown",
   "metadata": {},
   "source": [
    "## One more..."
   ]
  },
  {
   "cell_type": "code",
   "execution_count": 31,
   "metadata": {},
   "outputs": [
    {
     "name": "stdout",
     "output_type": "stream",
     "text": [
      "There are 345 iron records after filtering.\n"
     ]
    },
    {
     "data": {
      "text/html": [
       "<div>\n",
       "<style scoped>\n",
       "    .dataframe tbody tr th:only-of-type {\n",
       "        vertical-align: middle;\n",
       "    }\n",
       "\n",
       "    .dataframe tbody tr th {\n",
       "        vertical-align: top;\n",
       "    }\n",
       "\n",
       "    .dataframe thead th {\n",
       "        text-align: right;\n",
       "    }\n",
       "</style>\n",
       "<table border=\"1\" class=\"dataframe\">\n",
       "  <thead>\n",
       "    <tr style=\"text-align: right;\">\n",
       "      <th></th>\n",
       "      <th>new_name</th>\n",
       "      <th>long_name</th>\n",
       "      <th>start_year</th>\n",
       "      <th>end_year</th>\n",
       "      <th>iron</th>\n",
       "      <th>general_description</th>\n",
       "    </tr>\n",
       "  </thead>\n",
       "  <tbody>\n",
       "    <tr>\n",
       "      <th>149</th>\n",
       "      <td>cn_jin_spring_and_autumn</td>\n",
       "      <td>Jin</td>\n",
       "      <td>-780</td>\n",
       "      <td>-404</td>\n",
       "      <td>absent</td>\n",
       "      <td>The Spring and Autumn period was a period of t...</td>\n",
       "    </tr>\n",
       "    <tr>\n",
       "      <th>335</th>\n",
       "      <td>tr_tabal_k</td>\n",
       "      <td>Tabal Kingdoms</td>\n",
       "      <td>-900</td>\n",
       "      <td>-730</td>\n",
       "      <td>present</td>\n",
       "      <td>During the 900-730 BCE period the region of th...</td>\n",
       "    </tr>\n",
       "    <tr>\n",
       "      <th>340</th>\n",
       "      <td>us_oneota</td>\n",
       "      <td>Oneota</td>\n",
       "      <td>1400</td>\n",
       "      <td>1650</td>\n",
       "      <td>absent</td>\n",
       "      <td>'Oneota' is the modern name given to a group o...</td>\n",
       "    </tr>\n",
       "    <tr>\n",
       "      <th>226</th>\n",
       "      <td>ir_ak_koyunlu</td>\n",
       "      <td>Ak Koyunlu</td>\n",
       "      <td>1339</td>\n",
       "      <td>1501</td>\n",
       "      <td>present</td>\n",
       "      <td>The Ak Koyunlu were a loose confederation of n...</td>\n",
       "    </tr>\n",
       "    <tr>\n",
       "      <th>5</th>\n",
       "      <td>mn_hunnu_early</td>\n",
       "      <td>Early Xiongnu</td>\n",
       "      <td>-1400</td>\n",
       "      <td>-300</td>\n",
       "      <td>present</td>\n",
       "      <td>The Orkhon Valley is located on either side of...</td>\n",
       "    </tr>\n",
       "  </tbody>\n",
       "</table>\n",
       "</div>"
      ],
      "text/plain": [
       "                     new_name       long_name  start_year  end_year     iron  \\\n",
       "149  cn_jin_spring_and_autumn             Jin        -780      -404   absent   \n",
       "335                tr_tabal_k  Tabal Kingdoms        -900      -730  present   \n",
       "340                 us_oneota          Oneota        1400      1650   absent   \n",
       "226             ir_ak_koyunlu      Ak Koyunlu        1339      1501  present   \n",
       "5              mn_hunnu_early   Early Xiongnu       -1400      -300  present   \n",
       "\n",
       "                                   general_description  \n",
       "149  The Spring and Autumn period was a period of t...  \n",
       "335  During the 900-730 BCE period the region of th...  \n",
       "340  'Oneota' is the modern name given to a group o...  \n",
       "226  The Ak Koyunlu were a loose confederation of n...  \n",
       "5    The Orkhon Valley is located on either side of...  "
      ]
     },
     "execution_count": 31,
     "metadata": {},
     "output_type": "execute_result"
    }
   ],
   "source": [
    "from seshat_api.wf import Irons\n",
    "irons = Irons(client)\n",
    "irons_df = pd.DataFrame(irons.get_all())\n",
    "polities_with_irons_df = process_df(irons_df, 'iron')\n",
    "polities_with_irons_df.sample(5)"
   ]
  },
  {
   "cell_type": "code",
   "execution_count": 32,
   "metadata": {},
   "outputs": [],
   "source": [
    "# Get the responses for the Military use of Metals: Iron variable\n",
    "polities_with_irons_responses = deepseek_responses(polities_with_irons_df,\n",
    "                                                     'Military use of Metals: Iron',\n",
    "                                                     \"The absence or presence of iron as a military technology used in warfare\"\n",
    "                                                     )"
   ]
  },
  {
   "cell_type": "code",
   "execution_count": 33,
   "metadata": {},
   "outputs": [],
   "source": [
    "# Save the responses to a CSV file\n",
    "polities_with_irons_responses.to_csv('polities_with_irons_responses.csv', index=False)\n",
    "\n",
    "# Load the responses from the CSV file\n",
    "# polities_with_irons_responses = pd.read_csv('polities_with_irons_responses.csv')"
   ]
  },
  {
   "cell_type": "code",
   "execution_count": 34,
   "metadata": {},
   "outputs": [
    {
     "data": {
      "text/html": [
       "<div>\n",
       "<style scoped>\n",
       "    .dataframe tbody tr th:only-of-type {\n",
       "        vertical-align: middle;\n",
       "    }\n",
       "\n",
       "    .dataframe tbody tr th {\n",
       "        vertical-align: top;\n",
       "    }\n",
       "\n",
       "    .dataframe thead th {\n",
       "        text-align: right;\n",
       "    }\n",
       "</style>\n",
       "<table border=\"1\" class=\"dataframe\">\n",
       "  <thead>\n",
       "    <tr style=\"text-align: right;\">\n",
       "      <th></th>\n",
       "      <th>new_name</th>\n",
       "      <th>answer</th>\n",
       "      <th>full</th>\n",
       "    </tr>\n",
       "  </thead>\n",
       "  <tbody>\n",
       "    <tr>\n",
       "      <th>80</th>\n",
       "      <td>ir_susa_3</td>\n",
       "      <td>present</td>\n",
       "      <td>&lt;think&gt;\\nOkay, so I need to figure out whether...</td>\n",
       "    </tr>\n",
       "    <tr>\n",
       "      <th>311</th>\n",
       "      <td>pk_kachi_urban_2</td>\n",
       "      <td>present</td>\n",
       "      <td>&lt;think&gt;\\nOkay, so I need to figure out whether...</td>\n",
       "    </tr>\n",
       "    <tr>\n",
       "      <th>118</th>\n",
       "      <td>tr_konya_lca</td>\n",
       "      <td>present</td>\n",
       "      <td>&lt;think&gt;\\nOkay, so I need to figure out whether...</td>\n",
       "    </tr>\n",
       "    <tr>\n",
       "      <th>63</th>\n",
       "      <td>in_vakataka_k</td>\n",
       "      <td>present</td>\n",
       "      <td>&lt;think&gt;\\nOkay, so I need to figure out whether...</td>\n",
       "    </tr>\n",
       "    <tr>\n",
       "      <th>59</th>\n",
       "      <td>in_hoysala_k</td>\n",
       "      <td>present</td>\n",
       "      <td>&lt;think&gt;\\nOkay, so I need to figure out whether...</td>\n",
       "    </tr>\n",
       "  </tbody>\n",
       "</table>\n",
       "</div>"
      ],
      "text/plain": [
       "             new_name   answer  \\\n",
       "80          ir_susa_3  present   \n",
       "311  pk_kachi_urban_2  present   \n",
       "118      tr_konya_lca  present   \n",
       "63      in_vakataka_k  present   \n",
       "59       in_hoysala_k  present   \n",
       "\n",
       "                                                  full  \n",
       "80   <think>\\nOkay, so I need to figure out whether...  \n",
       "311  <think>\\nOkay, so I need to figure out whether...  \n",
       "118  <think>\\nOkay, so I need to figure out whether...  \n",
       "63   <think>\\nOkay, so I need to figure out whether...  \n",
       "59   <think>\\nOkay, so I need to figure out whether...  "
      ]
     },
     "execution_count": 34,
     "metadata": {},
     "output_type": "execute_result"
    }
   ],
   "source": [
    "polities_with_irons_responses.sample(5)"
   ]
  },
  {
   "cell_type": "code",
   "execution_count": 35,
   "metadata": {},
   "outputs": [
    {
     "name": "stdout",
     "output_type": "stream",
     "text": [
      "Correct: 220, Total: 345, Percentage: 63.77%\n"
     ]
    },
    {
     "data": {
      "text/plain": [
       "63.76811594202898"
      ]
     },
     "execution_count": 35,
     "metadata": {},
     "output_type": "execute_result"
    }
   ],
   "source": [
    "performance(polities_with_irons_df, polities_with_irons_responses, 'iron')"
   ]
  },
  {
   "cell_type": "markdown",
   "metadata": {},
   "source": [
    "# Conclusion\n",
    "\n",
    "Using DeepSeek-R1, as an example of a recent language model with advanced capabilities, we have provided a series of prompts to test its knowledge of history, using expert reviewed data from the Seshat Global History data as a ground truth. We have specifically asked a set of questions that would require some level of reasoning, rather than just knowledge. Since the model was run locally, it was unable to query online resources, all answers coming directly from the model itself.\n",
    "\n",
    "The questions are all about social complexity and military technology, and pertain to variables for which data has been collected in Seshat, across a range of historical polities. These polities vary by era and geography, but the only information we gave the LLM was the polity name and the years in which it was active. The prompts read something like this:\n",
    "\n",
    "> \"Use your knowledge of world history to answer the following question. Given your knowledge of the historical polity **'Fatimid Caliphate'**, a polity that existed between **909 CE** and **1171 CE**, do you expect that **Scientific Literature** was *present* or *absent*? **Scientific Literature** is defined as: **'Talking about Kinds of Written Documents, Scientific literature includes mathematics, natural sciences, social sciences'**. Answer *'XXXpresentXXX'* if you expect it to be present, and *'XXXabsentXXX'* if you expect it to be absent.\"\n",
    "\n",
    "We then extracted the answers from DeepSeek's responses. See results above"
   ]
  },
  {
   "cell_type": "markdown",
   "metadata": {},
   "source": [
    "# Add whether answer was correct to CSV"
   ]
  },
  {
   "cell_type": "code",
   "execution_count": 36,
   "metadata": {},
   "outputs": [],
   "source": [
    "def correctness(polities_df, responses_df, variable_id):\n",
    "    # Add a new column to the responses_df to store the correct answer\n",
    "    responses_df['correct'] = responses_df.apply(lambda row: polities_df[polities_df['new_name'] == row['new_name']][variable_id].values[0], axis=1)\n",
    "    return responses_df"
   ]
  },
  {
   "cell_type": "code",
   "execution_count": 37,
   "metadata": {},
   "outputs": [],
   "source": [
    "scientific_literature_responses = correctness(polities_with_scientific_literatures_df, scientific_literature_responses, 'scientific_literature')\n",
    "polities_with_drinking_water_supplies_responses = correctness(polities_with_drinking_water_supplies_df, polities_with_drinking_water_supplies_responses, 'drinking_water_supply_system')\n",
    "polities_with_roads_responses = correctness(polities_with_roads_df, polities_with_roads_responses, 'road')\n",
    "polities_with_irons_responses = correctness(polities_with_irons_df, polities_with_irons_responses, 'iron')"
   ]
  },
  {
   "cell_type": "code",
   "execution_count": 38,
   "metadata": {},
   "outputs": [],
   "source": [
    "# Re-save the responses to a CSVs\n",
    "scientific_literature_responses.to_csv('scientific_literature_responses.csv', index=False)\n",
    "polities_with_drinking_water_supplies_responses.to_csv('polities_with_drinking_water_supplies_responses.csv', index=False)\n",
    "polities_with_roads_responses.to_csv('polities_with_roads_responses.csv', index=False)\n",
    "polities_with_irons_responses.to_csv('polities_with_irons_responses.csv', index=False)"
   ]
  },
  {
   "cell_type": "code",
   "execution_count": 39,
   "metadata": {},
   "outputs": [
    {
     "data": {
      "text/html": [
       "<div>\n",
       "<style scoped>\n",
       "    .dataframe tbody tr th:only-of-type {\n",
       "        vertical-align: middle;\n",
       "    }\n",
       "\n",
       "    .dataframe tbody tr th {\n",
       "        vertical-align: top;\n",
       "    }\n",
       "\n",
       "    .dataframe thead th {\n",
       "        text-align: right;\n",
       "    }\n",
       "</style>\n",
       "<table border=\"1\" class=\"dataframe\">\n",
       "  <thead>\n",
       "    <tr style=\"text-align: right;\">\n",
       "      <th></th>\n",
       "      <th>new_name</th>\n",
       "      <th>answer</th>\n",
       "      <th>full</th>\n",
       "      <th>correct</th>\n",
       "    </tr>\n",
       "  </thead>\n",
       "  <tbody>\n",
       "    <tr>\n",
       "      <th>242</th>\n",
       "      <td>tr_ottoman_emp_1</td>\n",
       "      <td>present</td>\n",
       "      <td>&lt;think&gt;\\nOkay, so I need to figure out whether...</td>\n",
       "      <td>present</td>\n",
       "    </tr>\n",
       "  </tbody>\n",
       "</table>\n",
       "</div>"
      ],
      "text/plain": [
       "             new_name   answer  \\\n",
       "242  tr_ottoman_emp_1  present   \n",
       "\n",
       "                                                  full  correct  \n",
       "242  <think>\\nOkay, so I need to figure out whether...  present  "
      ]
     },
     "execution_count": 39,
     "metadata": {},
     "output_type": "execute_result"
    }
   ],
   "source": [
    "scientific_literature_responses[scientific_literature_responses['new_name'] == 'tr_ottoman_emp_1']"
   ]
  }
 ],
 "metadata": {
  "kernelspec": {
   "display_name": "Python (seshat_api_1)",
   "language": "python",
   "name": "seshat_api_1"
  },
  "language_info": {
   "codemirror_mode": {
    "name": "ipython",
    "version": 3
   },
   "file_extension": ".py",
   "mimetype": "text/x-python",
   "name": "python",
   "nbconvert_exporter": "python",
   "pygments_lexer": "ipython3",
   "version": "3.11.10"
  }
 },
 "nbformat": 4,
 "nbformat_minor": 2
}
